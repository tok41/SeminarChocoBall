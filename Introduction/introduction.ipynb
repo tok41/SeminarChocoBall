{
 "cells": [
  {
   "cell_type": "markdown",
   "metadata": {},
   "source": [
    "# Introduction"
   ]
  },
  {
   "cell_type": "code",
   "execution_count": null,
   "metadata": {},
   "outputs": [],
   "source": [
    "%matplotlib inline\n",
    "import matplotlib.pyplot as plt\n",
    "import numpy as np\n",
    "from scipy import stats\n",
    "import seaborn as sns\n",
    "import pandas as pd\n",
    "plt.style.use('seaborn-darkgrid')\n",
    "\n",
    "from sklearn.model_selection import train_test_split\n",
    "from sklearn.linear_model import Perceptron"
   ]
  },
  {
   "cell_type": "code",
   "execution_count": null,
   "metadata": {},
   "outputs": [],
   "source": [
    "sns.set()"
   ]
  },
  {
   "cell_type": "markdown",
   "metadata": {},
   "source": [
    "## 統計モデリングの目的"
   ]
  },
  {
   "cell_type": "code",
   "execution_count": null,
   "metadata": {},
   "outputs": [],
   "source": [
    "mu = 0.0\n",
    "sd = 1.0\n",
    "x = np.linspace(-5, 5, 100)\n",
    "y = stats.norm(mu, sd).rvs(size=1000)\n",
    "\n",
    "fig = plt.figure(figsize=(15, 4))\n",
    "ax = fig.subplots(1,3)\n",
    "ax[0].plot(y, '.')\n",
    "sns.distplot(y, ax=ax[1])\n",
    "ax[2].plot(x, stats.norm.pdf(x, loc=mu, scale=sd))\n",
    "\n",
    "plt.savefig(\"norm_sample.png\")"
   ]
  },
  {
   "cell_type": "markdown",
   "metadata": {},
   "source": [
    "## 「AI」と統計モデリング"
   ]
  },
  {
   "cell_type": "markdown",
   "metadata": {},
   "source": [
    "NNとは、特徴空間上に最も識別効率の高い直線を引くための技術。\n",
    "\n",
    "識別境界の例。"
   ]
  },
  {
   "cell_type": "code",
   "execution_count": null,
   "metadata": {},
   "outputs": [],
   "source": [
    "# メッシュデータを作る\n",
    "x1_min, x1_max = (-10, 10)\n",
    "x2_min, x2_max = (-10, 10)\n",
    "x1_mesh, x2_mesh = np.meshgrid(np.arange(x1_min, x1_max, 0.1),\n",
    "                               np.arange(x2_min, x2_max, 0.1))\n",
    "mesh = np.array([x1_mesh.ravel(), x2_mesh.ravel()]).T"
   ]
  },
  {
   "cell_type": "code",
   "execution_count": null,
   "metadata": {},
   "outputs": [],
   "source": [
    "w = [1.0, 2.0]\n",
    "b = [5.0]\n",
    "\n",
    "z = np.array([1 if np.dot(w, m)+b > 0 else -1 for m in mesh])\n",
    "z = z.reshape(x1_mesh.shape)\n",
    "print(z.shape)\n",
    "\n",
    "\n",
    "fig = plt.figure(figsize=(5, 5))\n",
    "ax = fig.subplots(1,1)\n",
    "ax.contourf(x1_mesh, x2_mesh, z, alpha=0.4)\n",
    "ax.hlines([0], x1_min, x1_max, \"blue\", linestyles='dashed')\n",
    "ax.vlines([0], x2_min, x2_max, \"blue\", linestyles='dashed')\n",
    "plt.savefig('classify_bound_sample.png')"
   ]
  },
  {
   "cell_type": "markdown",
   "metadata": {},
   "source": [
    "irisデータセットを利用して、最もシンプルなNNモデルの学習を体験"
   ]
  },
  {
   "cell_type": "code",
   "execution_count": null,
   "metadata": {},
   "outputs": [],
   "source": [
    "# サンプルデータのロードと可視化\n",
    "df = sns.load_dataset(\"iris\")\n",
    "\n",
    "sns.set()\n",
    "fig = plt.figure()\n",
    "ax = fig.subplots(1,1)\n",
    "\n",
    "# 種は3種あるが、今回は簡単のために2種のみ利用\n",
    "df_1 = df.query('species == \"versicolor\"')\n",
    "df_2 = df.query('species == \"virginica\"')\n",
    "\n",
    "ax.scatter(df_1['petal_width'], df_1['petal_length'], label='versicolor')\n",
    "ax.scatter(df_2['petal_width'], df_2['petal_length'], label='virginica')\n",
    "ax.set_xlabel('petal_width')\n",
    "ax.set_ylabel('petal_length')\n",
    "ax.legend()\n",
    "plt.savefig('iris_2feature.png')"
   ]
  },
  {
   "cell_type": "code",
   "execution_count": null,
   "metadata": {},
   "outputs": [],
   "source": [
    "# 学習データと訓練データに分割\n",
    "df_data = pd.concat([df_1, df_2])\n",
    "features = ['petal_width', 'petal_length']\n",
    "X = df_data[features]\n",
    "Y = [0 if i == 'versicolor' else 1 for i in df_data['species']]\n",
    "X_train, X_test, y_train, y_test = train_test_split(X, Y, test_size=0.3, random_state=0)\n"
   ]
  },
  {
   "cell_type": "code",
   "execution_count": null,
   "metadata": {},
   "outputs": [],
   "source": [
    "# 学習\n",
    "nnc = Perceptron(max_iter=100, tol=None)\n",
    "nnc.fit(X_train, y_train)\n",
    "print (\"score : \", nnc.score(X_test, y_test))"
   ]
  },
  {
   "cell_type": "code",
   "execution_count": null,
   "metadata": {},
   "outputs": [],
   "source": [
    "# 識別境界を甲斐s化する\n",
    "x1_min, x1_max = X.iloc[:, 0].min()-0.1, X.iloc[:, 0].max()+0.1\n",
    "x2_min, x2_max = X.iloc[:, 1].min()-0.1, X.iloc[:, 1].max()+0.1\n",
    "x1_mesh, x2_mesh = np.meshgrid(np.arange(x1_min, x1_max, 0.01),\n",
    "                               np.arange(x2_min, x2_max, 0.01))"
   ]
  },
  {
   "cell_type": "code",
   "execution_count": null,
   "metadata": {},
   "outputs": [],
   "source": [
    "z = nnc.predict(np.array([x1_mesh.ravel(), x2_mesh.ravel()]).T)\n",
    "z = z.reshape(x1_mesh.shape)"
   ]
  },
  {
   "cell_type": "code",
   "execution_count": null,
   "metadata": {},
   "outputs": [],
   "source": [
    "sns.set()\n",
    "fig = plt.figure()\n",
    "ax = fig.subplots(1,1)\n",
    "\n",
    "ax.contourf(x1_mesh, x2_mesh, z, alpha=0.4)\n",
    "ax.scatter(df_1['petal_width'], df_1['petal_length'], label='versicolor')\n",
    "ax.scatter(df_2['petal_width'], df_2['petal_length'], label='virginica')\n",
    "ax.legend()\n",
    "plt.savefig('iris_2feature_bound.png')"
   ]
  },
  {
   "cell_type": "code",
   "execution_count": null,
   "metadata": {},
   "outputs": [],
   "source": []
  }
 ],
 "metadata": {
  "kernelspec": {
   "display_name": "Python 3",
   "language": "python",
   "name": "python3"
  },
  "language_info": {
   "codemirror_mode": {
    "name": "ipython",
    "version": 3
   },
   "file_extension": ".py",
   "mimetype": "text/x-python",
   "name": "python",
   "nbconvert_exporter": "python",
   "pygments_lexer": "ipython3",
   "version": "3.7.0"
  }
 },
 "nbformat": 4,
 "nbformat_minor": 2
}
