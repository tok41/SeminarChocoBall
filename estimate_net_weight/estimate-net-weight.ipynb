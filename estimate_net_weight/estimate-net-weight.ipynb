{
 "cells": [
  {
   "cell_type": "markdown",
   "metadata": {},
   "source": [
    "# チョコボールの内容量を推定する"
   ]
  },
  {
   "cell_type": "code",
   "execution_count": null,
   "metadata": {},
   "outputs": [],
   "source": [
    "# ライブラリのインポート\n",
    "import sys, os\n",
    "import numpy as np\n",
    "import pandas as pd\n",
    "import scipy.stats as stats\n",
    "import pymc3 as pm\n",
    "import math\n",
    "\n",
    "import matplotlib.pyplot as plt\n",
    "import seaborn as sns\n",
    "%matplotlib inline"
   ]
  },
  {
   "cell_type": "code",
   "execution_count": null,
   "metadata": {},
   "outputs": [],
   "source": [
    "# プロットする図を綺麗にする\n",
    "sns.set()"
   ]
  },
  {
   "cell_type": "markdown",
   "metadata": {},
   "source": [
    "## 仮定\n",
    "- 実施キャンペーン、時期によって重量は変化しないものと考える"
   ]
  },
  {
   "cell_type": "markdown",
   "metadata": {},
   "source": [
    "## データを確認する\n"
   ]
  },
  {
   "cell_type": "code",
   "execution_count": null,
   "metadata": {},
   "outputs": [],
   "source": [
    "# データの読み込み\n",
    "data_raw = pd.read_csv('../data/chocoball_raw.csv')\n",
    "tastes = pd.read_csv('../data/choco_tastes.csv')\n",
    "\n",
    "print('data_raw.shape:', data_raw.shape)\n",
    "print('tastes.shape:', tastes.shape)"
   ]
  },
  {
   "cell_type": "code",
   "execution_count": null,
   "metadata": {},
   "outputs": [],
   "source": [
    "data_raw.head()"
   ]
  },
  {
   "cell_type": "code",
   "execution_count": null,
   "metadata": {},
   "outputs": [],
   "source": [
    "tastes.head()"
   ]
  },
  {
   "cell_type": "markdown",
   "metadata": {},
   "source": [
    "### データの加工\n",
    "- 正味重量（weight - box_weight）を作る\n",
    "- 内容量(spec)をまとめて一つのDataFrameを作る"
   ]
  },
  {
   "cell_type": "code",
   "execution_count": null,
   "metadata": {},
   "outputs": [],
   "source": [
    "# 正味重量（weight - box_weight）を作る\n",
    "data_raw['net_weight'] = data_raw['weight'] - data_raw['box_weight']\n",
    "data_raw.head()"
   ]
  },
  {
   "cell_type": "code",
   "execution_count": null,
   "metadata": {},
   "outputs": [],
   "source": [
    "# 内容量(spec)をまとめて一つのDataFrameを作る\n",
    "df_data = pd.merge(data_raw, tastes, left_on=['taste'], right_on=['id'], how='left')\n",
    "df_data = df_data.loc[:, ['campaign', 'taste', 'name_en', 'angel', 'net_weight', 'spec']]\n",
    "df_data.head()"
   ]
  },
  {
   "cell_type": "markdown",
   "metadata": {},
   "source": [
    "### データの基礎統計量確認"
   ]
  },
  {
   "cell_type": "markdown",
   "metadata": {},
   "source": [
    "#### フレーバー毎の計測データ数"
   ]
  },
  {
   "cell_type": "code",
   "execution_count": null,
   "metadata": {},
   "outputs": [],
   "source": [
    "df_data.groupby(['name_en']).count()[['net_weight']].sort_values(by='net_weight', ascending=False)"
   ]
  },
  {
   "cell_type": "markdown",
   "metadata": {},
   "source": [
    "データ数にばらつきがあるので、ある程度データ数が多いフレーバーを解析対象とする。\n",
    "\n",
    "発展的な内容として、統計モデリングの枠組みにおいては、データ数が少ない場合の予測方法はある。\n",
    "しかし、今回は対象外とする。"
   ]
  },
  {
   "cell_type": "code",
   "execution_count": null,
   "metadata": {},
   "outputs": [],
   "source": [
    "df_data_sel = df_data.query('name_en in [\"peanut\", \"strawberry\", \"banana\"]')\n",
    "grp = df_data_sel.groupby(['name_en'])"
   ]
  },
  {
   "cell_type": "code",
   "execution_count": null,
   "metadata": {},
   "outputs": [],
   "source": [
    "fig = plt.figure(figsize=(16, 4))\n",
    "ax = fig.subplots(1, 2)\n",
    "\n",
    "bins = np.linspace(0, 5.0, 30)\n",
    "for key, value in grp:\n",
    "    sns.distplot(value[\"net_weight\"], bins=np.linspace(21, 33, 50), hist=True, label=key, ax=ax[0])\n",
    "    sns.distplot((value[\"net_weight\"] - value[\"spec\"]), bins=bins, hist=True, label=key, ax=ax[1])\n",
    "ax[0].set_xlabel(\"NetWeight [g]\")\n",
    "ax[1].set_xlabel(\"(NetWeight - Spec) [g]\")\n",
    "ax[0].legend()\n",
    "ax[1].legend()"
   ]
  },
  {
   "cell_type": "markdown",
   "metadata": {},
   "source": [
    "この図は、左が正味重量のヒストグラム。\n",
    "右が、マージンのヒストグラム。"
   ]
  },
  {
   "cell_type": "markdown",
   "metadata": {},
   "source": [
    "## 最尤推定でパラメータを推定する"
   ]
  },
  {
   "cell_type": "markdown",
   "metadata": {},
   "source": [
    "### モデル設定\n",
    "- (スライド参照)\n",
    "- 正味重量は正規分布に従うと仮定\n",
    "  - 正規分布のパラメータは平均$\\mu$と分散$\\sigma^2$の二つのパラメータ\n",
    "  - 平均値$\\mu$は仕様上の内容量$spec$にマージン$\\alpha$を足したものとする(下記)\n",
    "    - $\\mu = spec + \\alpha$\n",
    "  - チョコボールの購入数（試行数）を$N$とし、データを$X=\\{x_1, x_2, \\cdots , x_n\\}$と表記する\n",
    "$$\n",
    "f(x|\\mu, \\sigma^2) = \\frac{1}{\\sqrt{2\\pi\\sigma^2}}exp{\\{-\\frac{(x-\\mu)^2}{2\\sigma^2}\\}}\n",
    "$$"
   ]
  },
  {
   "cell_type": "markdown",
   "metadata": {},
   "source": [
    "### 最尤推定量の計算\n",
    "- (スライド参照)\n",
    "- 求めたいパラメータは正味重量の平均$\\mu$と分散$\\sigma^2$\n",
    "- 最尤推定では、対数尤度$\\log{L(\\mu, \\sigma^2|X)}$をパラメータ($\\mu, \\sigma^2$)で偏微分して0となる値を推定値とする\n",
    "　　- 正規分布のパラメータは2つあるため、偏微分して0となる2つの方程式を解くことになる\n",
    "\n",
    "$$\n",
    "L(\\mu, \\sigma^2|X) = \\prod^{N}_{i=1}{f(x|\\mu, \\sigma^2)} = \\prod^{N}_{i=1}{\\frac{1}{\\sqrt{2\\pi\\sigma^2}}exp{\\{-\\frac{(x-\\mu)^2}{2\\sigma^2}\\}}}\\\\\n",
    "\\log{L(\\mu, \\sigma^2|X)} = N\\log{\\frac{1}{\\sqrt{2\\pi\\sigma^2}}} + \n",
    "\\sum^{N}_{i=1}{(-\\frac{(x_i-\\mu)^2}{2\\sigma^2})}\\\\\n",
    "\\qquad\\qquad\\qquad\n",
    "= -\\frac{N}{2}\\log{(2\\pi\\sigma^2)} - \\frac{1}{2\\sigma^2}\\sum^{N}_{i=1}{(x_i-\\mu)^2}\n",
    "$$\n",
    "\n",
    "$\\mu$と$\\sigma^2$でそれぞれ偏微分して0と置くと最尤推定量が算出できる。\n",
    "\n",
    "\n",
    "最初に平均$\\mu$から、\n",
    "$$\n",
    "\\frac{\\partial L}{\\partial \\mu} = -\\frac{1}{\\sigma^2}\\sum{(x_i-\\mu)^2} = 0 \\\\\n",
    "\\mu = \\frac{1}{N}\\sum{x_i}\n",
    "$$\n",
    "\n",
    "次に、分散$\\sigma^2$、\n",
    "$$\n",
    "\\frac{\\partial L}{\\partial \\sigma^2} \n",
    "= -\\frac{N}{2\\sigma^2} + \\frac{1}{2(\\sigma^2)^2}\\sum{(x_i-\\mu)^2} = 0 \\\\\n",
    "\\sigma^2 = \\frac{1}{N}\\sum{(x_i-\\mu)^2}\n",
    "$$\n",
    "\n",
    "ということで、長々と数式を展開してきたが、結局はこちらも標本平均と標本分散となる。"
   ]
  },
  {
   "cell_type": "code",
   "execution_count": null,
   "metadata": {},
   "outputs": [],
   "source": [
    "# フレーバー毎にグループ分けをする\n",
    "grp = df_data_sel.groupby(['name_en'])\n",
    "\n",
    "# 統計量を計算\n",
    "mu_mse = grp.mean()['net_weight']\n",
    "mu_mse.name = 'mu'\n",
    "sig2_mse = grp.var()['net_weight']\n",
    "sig2_mse.name = 'sig2'\n",
    "\n",
    "# フレーバーのマスタDataFrameのindexを変更\n",
    "tastes_spec = tastes.set_index('name_en')\n",
    "# マージンαの算出\n",
    "alpha = dict()\n",
    "for taste, mu in mu_mse.items():\n",
    "    alpha[taste] = mu - tastes_spec.loc[taste, 'spec']\n",
    "alpha_s = pd.Series(alpha, name='alpha')\n",
    "\n",
    "# 結果をまとめる\n",
    "df_mse = pd.concat([mu_mse, alpha_s, sig2_mse], axis=1)\n",
    "df_mse"
   ]
  },
  {
   "cell_type": "markdown",
   "metadata": {},
   "source": [
    "### 推定値の活用"
   ]
  },
  {
   "cell_type": "markdown",
   "metadata": {},
   "source": [
    "最尤推定量を計算することができたので、推定結果をデータに当てはめてみる"
   ]
  },
  {
   "cell_type": "code",
   "execution_count": null,
   "metadata": {},
   "outputs": [],
   "source": [
    "fig = plt.figure(figsize=(16, 4))\n",
    "ax = fig.subplots(1, 2)\n",
    "\n",
    "bins_p = np.linspace(21, 33, 50)\n",
    "bins_a = np.linspace(0, 5.0, 30)\n",
    "for key, value in grp:\n",
    "    sns.distplot(value[\"net_weight\"], bins=bins_p, kde=False, hist=True, norm_hist=True, label=key, ax=ax[0])\n",
    "    x1 = np.linspace(min(bins_p), max(bins_p), 300)\n",
    "    y1 = stats.norm.pdf(x1, loc=df_mse.loc[key, 'mu'], scale=math.sqrt(df_mse.loc[key, 'sig2']))\n",
    "    ax[0].plot(x1, y1, lw=3, label='MLE_{}'.format(key))\n",
    "    \n",
    "    sns.distplot((value[\"net_weight\"] - value[\"spec\"]), bins=bins_a, kde=False, hist=True, norm_hist=True, label=key, ax=ax[1])\n",
    "    x2 = np.linspace(min(bins_a), max(bins_a), 300)\n",
    "    y2 = stats.norm.pdf(x2, loc=df_mse.loc[key, 'alpha'], scale=math.sqrt(df_mse.loc[key, 'sig2']))\n",
    "    ax[1].plot(x2, y2, lw=3, label='MLE_{}'.format(key))\n",
    "ax[0].set_xlabel(\"NetWeight [g]\")\n",
    "ax[1].set_xlabel(\"(NetWeight - Spec) [g]\")\n",
    "ax[0].legend()\n",
    "ax[1].legend()\n",
    "\n",
    "plt.savefig('net_weight_mle.png')"
   ]
  },
  {
   "cell_type": "markdown",
   "metadata": {},
   "source": [
    "この結果から、ピーナツとイチゴ味は仕様よりも1.5g程度多く入っているらしいということがわかった。  \n",
    "また、チョコバナナ味は他の2つと傾向が異なり、仕様に近い重さしか無い(マージンが少ない)こともわかった。\n",
    "\n",
    "しかし、推定結果は実データと当てはまりが悪い。\n",
    "モデルを改良する必要がある。\n",
    "例えば、切断分布を使うようにしたり、（特にイチゴは）階層モデルや混合モデルを考える必要がありそうである。\n",
    "\n",
    "データ分析はこのように、最もシンプルなモデルでやってみて、\n",
    "当てはまらないようであれば複雑にしていくというプロセスを踏む必要がある。\n",
    "最初から複雑なモデルを考えるのは時間もかかるし、無駄になる可能性もある。\n",
    "また統計モデリングでは、背景を想像しながらモデルを改良することで、説明力が上がる場合がある（想像=仮説、仮説の検証になる）。"
   ]
  },
  {
   "cell_type": "markdown",
   "metadata": {},
   "source": [
    "## ベイズ推定でパラメータを推定する"
   ]
  },
  {
   "cell_type": "markdown",
   "metadata": {},
   "source": [
    "### モデル設定\n",
    "- (スライド資料参照)\n",
    "- ベイズの式を再度思い出す\n",
    "    - $p(\\theta | x) \\propto p(x | \\theta)p(\\theta)$\n",
    "    - x : チョコボールの重量データ\n",
    "    - $\\theta$ : 確率分布のパラメータ\n",
    "    - 尤度$p(x | \\theta)$と事前分布$p(\\theta)$を設定する必要がある\n",
    "- 尤度関数\n",
    "    - 最尤推定と同様に、正規分布を採用\n",
    "    - $p(x | \\theta) = N(\\mu, \\sigma^2)$\n",
    "      - なお, $\\mu=spec+\\alpha$\n",
    "    - 推定するパラメータは二つ\n",
    "      - $\\alpha$ : 平均のマージン\n",
    "      - $\\sigma^2$ : 分散\n",
    "- 事前分布\n",
    "    - 推定するパラメータ毎にそのパラメータの事前分布を設定する必要がある\n",
    "    - マージン$\\alpha$の事前分布には正規分布\n",
    "      - $p(\\alpha) = N(\\mu_a, \\sigma^2_a)$\n",
    "    - 分散$\\sigma^2$の事前分布には半正規分布\n",
    "      - $p(\\sigma^2) = HalfNormal(sigma^2_b)$"
   ]
  },
  {
   "cell_type": "markdown",
   "metadata": {},
   "source": [
    "#### 正規分布の形状をみてみよう"
   ]
  },
  {
   "cell_type": "code",
   "execution_count": null,
   "metadata": {},
   "outputs": [],
   "source": [
    "params_mu = [0, 5, 10] # 平均値\n",
    "params_sig = [1, 3, 10] # 標準偏差\n",
    "\n",
    "x = np.linspace(-5, 15, 100)\n",
    "\n",
    "fig = plt.figure(figsize=(13, 10))\n",
    "ax = fig.subplots(len(params_mu), len(params_sig), sharex=True, sharey=True)\n",
    "cnt=0\n",
    "for i in range(len(params_mu)):\n",
    "    for j in range(len(params_sig)):\n",
    "        mu = params_mu[i]\n",
    "        sig = params_sig[j]\n",
    "        y = stats.norm(mu, sig).pdf(x)\n",
    "        ax[i, j].plot(x, y)\n",
    "        ax[i, j].plot(0, 0, label=\"$\\\\mu$ = {:3.2f}\\n$\\\\sigma$ = {:3.2f}\".format(mu, sig), alpha=0)\n",
    "        ax[i, j].legend()\n",
    "        if i == (len(params_mu)-1):\n",
    "            ax[i,j].set_xlabel('$\\\\theta$')\n",
    "        if j == 0:\n",
    "            ax[i,j].set_ylabel('$p(\\\\theta)$')\n",
    "plt.savefig('norm_dist_var.png')"
   ]
  },
  {
   "cell_type": "markdown",
   "metadata": {},
   "source": [
    "### 解析的な計算方法(共役事前分布)"
   ]
  },
  {
   "cell_type": "markdown",
   "metadata": {},
   "source": [
    "エンゼルの出現確率を予測した際に、解析的に計算ができることを示した。  \n",
    "重量推定のモデルでも同様に計算することができる。\n",
    "\n",
    "尤度関数は正規分布を利用するので、その共役事前分布を事前分布に選ぶことで解析的に計算ができる。\n",
    "ここでは計算は省略するが、正規分布の共役事前分布は正規分布である。"
   ]
  },
  {
   "cell_type": "markdown",
   "metadata": {},
   "source": [
    "### 数値的な計算方法(MCMC)"
   ]
  },
  {
   "cell_type": "markdown",
   "metadata": {},
   "source": [
    "#### 計算の実行\n",
    "実際の計算は、エンゼル出現確率の予測と同様にMCMCを利用して、数値的に計算する。"
   ]
  },
  {
   "cell_type": "code",
   "execution_count": null,
   "metadata": {},
   "outputs": [],
   "source": [
    "taste = df_data_sel['taste'].values\n",
    "taste_idx = pd.Categorical(df_data_sel['taste']).codes\n",
    "tastes_id = tastes.set_index('id')\n",
    "spec_lst = np.array([tastes_id.loc[i, 'spec'] for i in set(taste)])\n",
    "print(set(taste))\n",
    "print(set(taste_idx))\n",
    "print(spec_lst)"
   ]
  },
  {
   "cell_type": "code",
   "execution_count": null,
   "metadata": {},
   "outputs": [],
   "source": [
    "d_weight = df_data_sel['net_weight'].values\n",
    "n_sample = 10000\n",
    "\n",
    "with pm.Model() as model_weight:\n",
    "    # 事前分布の設定　ｓｈａｐｅを指定することで、複数のパラメータを扱える\n",
    "    alpha = pm.Normal('alpha', mu=0, sd=20, shape=len(set(taste_idx)))\n",
    "    sds = pm.HalfNormal('sds', sd=10, shape=len(set(taste_idx)))\n",
    "    # 正規分布のパラメータμを計算(μ自体は確率的に変動しないのでDeterministic宣言)\n",
    "    mu = pm.Deterministic('mu', spec_lst[taste_idx]+alpha[taste_idx])\n",
    "    \n",
    "    weights = pm.Normal('weights', mu=mu, sd=sds[taste_idx], observed=d_weight)\n",
    "    \n",
    "    trace = pm.sample(n_sample, chains=4)\n"
   ]
  },
  {
   "cell_type": "code",
   "execution_count": null,
   "metadata": {},
   "outputs": [],
   "source": [
    "ret = pm.model_to_graphviz(model_weight)\n",
    "ret.render(filename='model_weight_00', format='png')\n",
    "ret"
   ]
  },
  {
   "cell_type": "markdown",
   "metadata": {},
   "source": [
    "### 結果の解釈"
   ]
  },
  {
   "cell_type": "markdown",
   "metadata": {},
   "source": [
    "推定対象である、正規分布のパラメータ$\\mu, \\sigma$の事後分布を確認する。\n",
    "なお、以下の図はchain数（MCMCサンプル系列の数）分の結果が同時に表示されている。\n",
    "- 左図:パラメータの事後分布\n",
    "- 右図:パラメータのサンプル系列。ランダムにサンプルされていることが望ましい。"
   ]
  },
  {
   "cell_type": "code",
   "execution_count": null,
   "metadata": {},
   "outputs": [],
   "source": [
    "pm.traceplot(trace, varnames=['alpha', 'sds'])"
   ]
  },
  {
   "cell_type": "markdown",
   "metadata": {},
   "source": [
    "次に、統計量を確認する"
   ]
  },
  {
   "cell_type": "code",
   "execution_count": null,
   "metadata": {},
   "outputs": [],
   "source": [
    "pm.summary(trace, varnames=['alpha'])"
   ]
  },
  {
   "cell_type": "markdown",
   "metadata": {},
   "source": [
    "- mean:事後分布の期待値\n",
    "- sd:サンプルの標本標準偏差\n",
    "- mc_error:サンプリングに起因する誤差の推定値\n",
    "- hpd_2.5:95%信用区間の下限\n",
    "- hpd_97.5:95%信用区間の上限\n",
    "- n_eff:サンプルサイズの効果量\n",
    "- Rhat:chain間の分散とchain内の分散の比のようなもの。1に近いほど良い。大きい場合は、収束していないchainがある。"
   ]
  },
  {
   "cell_type": "markdown",
   "metadata": {},
   "source": [
    "chainを全て統合して、事後分布を推定。"
   ]
  },
  {
   "cell_type": "code",
   "execution_count": null,
   "metadata": {},
   "outputs": [],
   "source": [
    "alpha_mse = [df_mse.loc[tastes_id.loc[t, 'name_en'], 'alpha'] \n",
    "             for t in set(taste)]\n",
    "\n",
    "fig = plt.figure(figsize=(10, 6))\n",
    "ax = fig.subplots(3, 1, sharex=True)\n",
    "\n",
    "pm.plot_posterior(trace, varnames=['alpha'], \n",
    "                  kde_plot=True, alpha_level=0.05, ax=ax)\n",
    "plt.savefig('posterior_weight_diff.png')"
   ]
  },
  {
   "cell_type": "markdown",
   "metadata": {},
   "source": [
    "この結果から、マージン$\\alpha$はフレーバーによって異なることがわかった。\n",
    "特にチョコバナナ味は、他のフレーバーと比較して、マージン$\\alpha$が小さいということがわかった。"
   ]
  },
  {
   "cell_type": "markdown",
   "metadata": {},
   "source": [
    "## 正味重量を階層ベイズモデルで推定\n",
    "- マージンは味毎に変えているわけではなく、森永さんがチョコボールを製造する際の思想で設定しているものと想像\n",
    "    - 仕様に対してalphaグラム多く入れることにしようと方針を決めていると想像\n",
    "- そのため、データ数が少ないために、マージンに差が出てしまったのではないかとも考えられる\n"
   ]
  },
  {
   "cell_type": "markdown",
   "metadata": {},
   "source": [
    "### モデル\n",
    "- ベイズの式\n",
    "    - $p(\\theta | x) \\propto p(x | \\theta)p(\\theta)$\n",
    "    - x : チョコボールの重量データ\n",
    "    - $\\theta$ : 確率分布のパラメータ\n",
    "    - 尤度$p(x | \\theta)$と事前分布$p(\\theta)$を設定する必要がある\n",
    "- 尤度関数\n",
    "    - 最尤推定と同様に、正規分布を採用\n",
    "    - $p(x | \\theta) = N(\\mu, \\sigma^2)$\n",
    "      - なお, $\\mu=spec+\\alpha$\n",
    "    - 推定するパラメータは二つ\n",
    "      - $\\alpha$ : 平均のマージン\n",
    "      - $\\sigma^2$ : 分散\n",
    "- 事前分布\n",
    "    - 推定するパラメータ毎にそのパラメータの事前分布を設定する必要がある\n",
    "    - マージン$\\alpha$の事前分布には正規分布\n",
    "      - $p(\\alpha) = N(\\mu_a, \\sigma^2_a)$\n",
    "    - 分散$\\sigma^2$の事前分布には半正規分布\n",
    "      - $p(\\sigma^2) = HalfNormal(sigma^2_b)$\n",
    "- 階層事前分布\n",
    "    - 事前分布を統括する分布として階層事前分布を仮定\n",
    "    - マージン$\\alpha$の事前分布のパラメータに階層事前分布を設定する\n",
    "      - $\\mu_a$と$\\sigma^2_a$のそれぞれに対して事前分布を設定\n",
    "      - $\\sigma^2_b$に対して事前分布を設定"
   ]
  },
  {
   "cell_type": "code",
   "execution_count": null,
   "metadata": {},
   "outputs": [],
   "source": [
    "with pm.Model() as comparing_weight_h:\n",
    "    # 階層事前分布\n",
    "    am = pm.Normal('am', mu=0, sd=10)\n",
    "    asd = pm.HalfNormal('asd', sd=10)\n",
    "    ssd = pm.HalfNormal('ssd', sd=10)\n",
    "    # 事前分布\n",
    "    alpha = pm.Normal('alpha', mu=am, sd=asd, shape=len(set(taste_idx)))\n",
    "    mu = pm.Deterministic('mu', spec_lst[taste_idx]+alpha[taste_idx])\n",
    "    sds = pm.HalfNormal('sds', sd=ssd, shape=len(set(taste_idx)))\n",
    "    # 重量モデル\n",
    "    weights = pm.Normal('weights', mu=mu, sd=sds[taste_idx], observed=d_weight)\n",
    "    \n",
    "    trace_wh = pm.sample(5000, chains=2)"
   ]
  },
  {
   "cell_type": "code",
   "execution_count": null,
   "metadata": {},
   "outputs": [],
   "source": [
    "ret = pm.model_to_graphviz(comparing_weight_h)\n",
    "ret.render(filename='model_weight_01', format='png')\n",
    "ret"
   ]
  },
  {
   "cell_type": "code",
   "execution_count": null,
   "metadata": {},
   "outputs": [],
   "source": [
    "pm.traceplot(trace_wh, varnames=['am', 'asd', 'ssd', 'alpha', 'sds'])"
   ]
  },
  {
   "cell_type": "code",
   "execution_count": null,
   "metadata": {},
   "outputs": [],
   "source": [
    "fig = plt.figure(figsize=(10, 6))\n",
    "ax = fig.subplots(3, 1, sharex=True)\n",
    "\n",
    "pm.plot_posterior(trace_wh, varnames=['alpha'], \n",
    "                  kde_plot=True, alpha_level=0.05, ax=ax)\n",
    "plt.savefig('posterior_weight_diff_hi.png')"
   ]
  },
  {
   "cell_type": "markdown",
   "metadata": {},
   "source": [
    "- ピーナッツとイチゴのマージンには差が無いように見える\n",
    "- しかし、チョコバナナは設定が異なっているものと統計的に見える"
   ]
  },
  {
   "cell_type": "code",
   "execution_count": null,
   "metadata": {},
   "outputs": [],
   "source": []
  }
 ],
 "metadata": {
  "kernelspec": {
   "display_name": "Python 3",
   "language": "python",
   "name": "python3"
  },
  "language_info": {
   "codemirror_mode": {
    "name": "ipython",
    "version": 3
   },
   "file_extension": ".py",
   "mimetype": "text/x-python",
   "name": "python",
   "nbconvert_exporter": "python",
   "pygments_lexer": "ipython3",
   "version": "3.7.3"
  }
 },
 "nbformat": 4,
 "nbformat_minor": 2
}
