{
 "cells": [
  {
   "cell_type": "markdown",
   "metadata": {},
   "source": [
    "# チョコボールのエンゼルの出現確率を推定する"
   ]
  },
  {
   "cell_type": "code",
   "execution_count": null,
   "metadata": {},
   "outputs": [],
   "source": [
    "# ライブラリのインポート\n",
    "import sys, os\n",
    "import numpy as np\n",
    "import pandas as pd\n",
    "import scipy.stats as stats\n",
    "import itertools\n",
    "import math\n",
    "import pymc3 as pm\n",
    "\n",
    "import matplotlib.pyplot as plt\n",
    "import seaborn as sns\n",
    "%matplotlib inline"
   ]
  },
  {
   "cell_type": "code",
   "execution_count": null,
   "metadata": {},
   "outputs": [],
   "source": [
    "# プロットする図を綺麗にする\n",
    "sns.set()"
   ]
  },
  {
   "cell_type": "markdown",
   "metadata": {
    "toc-hr-collapsed": true
   },
   "source": [
    "## データを確認する\n",
    "データ構成は以下の通り。\n",
    "\n",
    "| columns | description |\n",
    "|:--------|:------------|\n",
    "| best_before | 賞味期限. チョコボールの仕様上,月単位. |\n",
    "| buyer | 購入者. サンプルデータではA,B,Cの３人が購入している. |\n",
    "| campaign | 開催中のキャンペーンID. |\n",
    "| taste | フレーバーID. choco_tastes.csvを参照. |\n",
    "| weight | 総重量 [g] |\n",
    "| box_weight | 箱重量 [g] |\n",
    "| ball_number | チョコボールの個数 |\n",
    "| silver | 銀のエンゼルの有無(0:無し, 1:有り) |\n",
    "| gold | 金のエンゼルの有無(0:無し, 1:有り) |\n",
    "\n",
    "- campaign=1は, 金のエンゼルの出現確率は2倍だが, 銀のエンゼルの出現確率は0%である.\n",
    "- 正味の重量は(weight - box_weight)で算出. 仕様上の正味重量はchoco_tastes.csvを参照. \n"
   ]
  },
  {
   "cell_type": "code",
   "execution_count": null,
   "metadata": {},
   "outputs": [],
   "source": [
    "# データの読み込み\n",
    "data_raw = pd.read_csv('../data/chocoball_raw.csv')\n",
    "tastes = pd.read_csv('../data/choco_tastes.csv')\n",
    "\n",
    "print('data_raw.shape:', data_raw.shape)\n",
    "print('tastes.shape:', tastes.shape)"
   ]
  },
  {
   "cell_type": "code",
   "execution_count": null,
   "metadata": {},
   "outputs": [],
   "source": [
    "data_raw.head()"
   ]
  },
  {
   "cell_type": "code",
   "execution_count": null,
   "metadata": {},
   "outputs": [],
   "source": [
    "tastes"
   ]
  },
  {
   "cell_type": "markdown",
   "metadata": {},
   "source": [
    "銀のエンゼルの出現確率を予測する際に、`campaign=1`のデータを使わないようにする。\n",
    "（データから予め除外しているが、一応確認する。）"
   ]
  },
  {
   "cell_type": "code",
   "execution_count": null,
   "metadata": {},
   "outputs": [],
   "source": [
    "df_data = data_raw[data_raw['campaign']!=1]\n",
    "\n",
    "print('df_data.shape:', df_data.shape)\n",
    "df_data.groupby(['silver']).count()[['taste']]"
   ]
  },
  {
   "cell_type": "markdown",
   "metadata": {},
   "source": [
    "## 仮定\n",
    "- エンゼルはランダムに入っている\n",
    "- 時期やフレーバーに依って確率は変化しない\n"
   ]
  },
  {
   "cell_type": "markdown",
   "metadata": {},
   "source": [
    "## 最尤推定でパラメータを推定する"
   ]
  },
  {
   "cell_type": "markdown",
   "metadata": {},
   "source": [
    "### モデル設定\n",
    "- エンゼルの出現を二項分布でモデル化する\n",
    "  - エンゼルの出現確率を$\\theta$とする\n",
    "  - チョコボールの購入数（試行数）を$n$とする\n",
    "$$\n",
    "f(k|\\theta) = \\binom{n}{k}\\theta^{k}(1-\\theta)^{n-k}\n",
    "$$"
   ]
  },
  {
   "cell_type": "markdown",
   "metadata": {},
   "source": [
    "### 最尤推定量の計算\n",
    "- 求めたいパラメータはエンゼルの出現確率である$\\theta$\n",
    "- 最尤推定では、対数尤度$\\log{L(\\theta|X)}$をパラメータ$\\theta$で微分して0となる値を推定値とする\n",
    "\n",
    "$$\n",
    "L(\\theta|X)=\\prod^{N}_{i=1}{f(k|\\theta)} = \\binom{n}{k}\\theta^{k}(1-\\theta)^{n-k} \\\\\n",
    "\\log{L(\\theta|X)} = \\log{\\binom{n}{k}\\theta^{k}(1-\\theta)^{n-k}} \\\\\n",
    "\\qquad\\qquad\\qquad\\qquad\\qquad = \\log{\\binom{n}{k}} + \\theta\\log{{k}} + (1-\\theta)\\log{{n-k}} \\\\\n",
    "$$\n",
    "\n",
    "微分して0となるパラメータ\n",
    "\n",
    "$$\n",
    "\\frac{d\\log{L(\\theta|X)}}{d\\theta} = 0 \\\\\n",
    "\\hat{\\theta} = \\frac{k}{n}\n",
    "$$\n",
    "\n",
    "ということで、長々と数式を展開してきたが、結局は標本平均となる。"
   ]
  },
  {
   "cell_type": "code",
   "execution_count": null,
   "metadata": {},
   "outputs": [],
   "source": [
    "theta_l = np.sum(df_data['silver']) / np.size(df_data['silver'].values)\n",
    "print('estimated value(MLP):', theta_l)"
   ]
  },
  {
   "cell_type": "markdown",
   "metadata": {
    "toc-hr-collapsed": false
   },
   "source": [
    "### 推定値の活用\n",
    "統計モデリングができたら、その結果を活用して様々なことができる。"
   ]
  },
  {
   "cell_type": "markdown",
   "metadata": {},
   "source": [
    "#### 推定値をパラメータとした二項分布を確認\n",
    "二項分布は試行数nを所与として、何回あたりを引くかの分布。"
   ]
  },
  {
   "cell_type": "code",
   "execution_count": null,
   "metadata": {},
   "outputs": [],
   "source": [
    "ks = np.arange(0, 20, 1)\n",
    "ns = [50, 100, 200]\n",
    "\n",
    "for n in ns:\n",
    "    # 確率質量関数を計算\n",
    "    pmf = stats.binom.pmf(ks, n, p=theta_l)\n",
    "    # Plot\n",
    "    plt.plot(ks, pmf, label='n_sample={}'.format(n), marker='.')\n",
    "plt.legend()\n",
    "plt.xlabel('k (number of angel)')\n",
    "plt.ylabel('probability')\n",
    "plt.savefig('binom_mle.png')"
   ]
  },
  {
   "cell_type": "markdown",
   "metadata": {},
   "source": [
    "#### 何個買えばエンゼルが5個当たるのか？\n",
    "- 負の二項分布を利用する（ベルヌーイ試行）\n",
    "  - $k$ : 成功数（エンゼルの出現数）\n",
    "  - $x$ : k回成功するまでの失敗回数\n",
    "  - $\\theta$ : 1回の成功確率（エンゼルの出現確率）\n",
    "$$\n",
    "f(x|\\theta) = \\binom{k+x-1}{x}\\theta^{k}(1-\\theta)^{x}\n",
    "$$"
   ]
  },
  {
   "cell_type": "code",
   "execution_count": null,
   "metadata": {},
   "outputs": [],
   "source": [
    "k = 5\n",
    "xs = np.arange(k+0, k+300, 1)\n",
    "\n",
    "# 確率分布の計算\n",
    "pmf_nb = stats.nbinom.pmf(xs, k, theta_l)\n",
    "cdf_nb = pmf_nb.cumsum()\n",
    "\n",
    "# 累積確率が50%を超える位置を算出\n",
    "first_over_50 = list(cdf_nb).index(cdf_nb[cdf_nb>0.5].min())\n",
    "\n",
    "# plot\n",
    "fig = plt.figure(figsize=(13, 4))\n",
    "ax = fig.subplots(1, 2)\n",
    "ax[0].plot(xs, pmf_nb)\n",
    "ax[0].set_title('Probability Mass Function')\n",
    "ax[0].set_xlabel('False Count')\n",
    "ax[0].set_ylabel('Probability Mass')\n",
    "ax[1].plot(xs, cdf_nb)\n",
    "ax[1].set_title('Cumulative Probability Mass Function')\n",
    "ax[1].set_xlabel('False Count')\n",
    "ax[1].set_ylabel('Cum. Probability')\n",
    "ax[1].set_ylim([0.0, 1.1])\n",
    "ax[1].vlines(x=first_over_50, ymin=0, ymax=1.0, color=\"red\", label=\"50% Over\")\n",
    "print('50% Over point:{}, ({}+{})'.format(first_over_50 + k, first_over_50, k))\n",
    "plt.savefig('purchase_number_mle.png')"
   ]
  },
  {
   "cell_type": "markdown",
   "metadata": {},
   "source": [
    "## ベイズ推定でパラメータを推定する"
   ]
  },
  {
   "cell_type": "markdown",
   "metadata": {},
   "source": [
    "### モデル設定\n",
    "- ベイズの式を思い出す\n",
    "    - $p(\\theta | x) \\propto p(x | \\theta)p(\\theta)$\n",
    "    - x : n個のチョコボールを開封して出たエンゼルの数\n",
    "    - $\\theta$ : 確率分布のパラメータ（エンゼルの含有率）\n",
    "    - 尤度$p(x | \\theta)$と事前分布$p(\\theta)$を設定する必要がある\n",
    "- 尤度関数\n",
    "    - 最尤推定と同様に、二項分布を利用\n",
    "    - $p(x | \\theta) = \\binom{n}{x}\\theta^x(1-\\theta)^{N-x}$\n",
    "- 事前分布\n",
    "    - ベータ分布\n",
    "    - $p(\\theta) = \\frac{\\Gamma(\\alpha + \\beta)}{\\Gamma(\\alpha)\\Gamma(\\beta)}\\theta^{\\alpha-1}(1-\\theta)^{\\beta-1}$\n"
   ]
  },
  {
   "cell_type": "markdown",
   "metadata": {},
   "source": [
    "#### ベータ分布の形状を見てみる"
   ]
  },
  {
   "cell_type": "code",
   "execution_count": null,
   "metadata": {},
   "outputs": [],
   "source": [
    "params = [0.1, 1, 2, 10] # alpha, betaの例\n",
    "\n",
    "x = np.linspace(0, 1, 100) # x軸の設定\n",
    "\n",
    "fig = plt.figure(figsize=(13, 10))\n",
    "ax = fig.subplots(len(params), len(params), sharex=True, sharey=True)\n",
    "cnt=0\n",
    "for i in range(len(params)):\n",
    "    for j in range(len(params)):\n",
    "        # パラメータalphaとbetaを設定\n",
    "        a = params[i]\n",
    "        b = params[j]\n",
    "        # ベータ分布の確率密度を計算\n",
    "        y = stats.beta(a, b).pdf(x)\n",
    "        # plot\n",
    "        ax[i, j].plot(x, y)\n",
    "        ax[i, j].plot(0, 0, label=\"$\\\\alpha$ = {:3.2f}\\n$\\\\beta$ = {:3.2f}\".format(a, b), alpha=0)\n",
    "        ax[i, j].legend()\n",
    "        if i == (len(params)-1):\n",
    "            ax[i,j].set_xlabel('$\\\\theta$')\n",
    "        if j == 0:\n",
    "            ax[i,j].set_ylabel('$p(\\\\theta)$')\n",
    "plt.savefig('beta_dist_var.png')"
   ]
  },
  {
   "cell_type": "markdown",
   "metadata": {},
   "source": [
    "### 解析的な計算方法(共役事前分布)"
   ]
  },
  {
   "cell_type": "markdown",
   "metadata": {},
   "source": [
    "ベイズの定理を再度思い出す。\n",
    "事後分布は尤度関数と事前分布の積に比例するという式である。\n",
    "$$\n",
    "p(\\theta | y) \\propto p(y | \\theta)p(\\theta)\n",
    "$$\n",
    "尤度関数には、二項分布で事前分布はベータ分布と定義したので、\n",
    "ベイズの定理は以下のような式になる。\n",
    "$$\n",
    "p(\\theta | y) \\propto \\frac{N!}{y!(N-y)!}\\theta^y(1-\\theta)^{N-y}\\frac{\\Gamma(\\alpha + \\beta)}{\\Gamma(\\alpha)\\Gamma(\\beta)}\\theta^{\\alpha-1}(1-\\theta)^{\\beta-1}\n",
    "$$\n",
    "\n",
    "$\\theta$に関係しない部分は比例定数として押し込めてしまうことで、\n",
    "以下の式が得られる。\n",
    "\n",
    "$$\n",
    "p(\\theta | y)　\\propto \\theta^{\\alpha-1+y}(1-\\theta)^{\\beta-1+N-y}\n",
    "$$\n",
    "\n",
    "この式はベータ分布に一致する。\n",
    "$$\n",
    "p(\\theta | y)　= Beta(\\alpha_{prior}+y, \\beta_{prior}+N-y)\n",
    "$$\n",
    "\n",
    "つまり、今回のモデル定義においては、解析的に事後分布を導くことができた。  \n",
    "このように尤度関数との積が同じ関数になる事前分布を「共役事前分布」と呼ぶ。\n",
    "共役事前分布をモデルに利用すれば解析的に解を求めることができるが、\n",
    "もっと複雑なモデルを使う場合には、一般的に解析解が得られない。"
   ]
  },
  {
   "cell_type": "markdown",
   "metadata": {},
   "source": [
    "### 数値的な計算方法(MCMC)"
   ]
  },
  {
   "cell_type": "markdown",
   "metadata": {},
   "source": [
    "#### 計算の実行\n",
    "複雑なモデルや共役でない事前分布を使う場合、計算が困難か解析的には計算が不可能な場合がある。  \n",
    "このような場合にも事後分布を計算するアルゴリズムとして、\n",
    "マルコフチェーンモンテカルロ（MCMC）と呼ばれるアルゴリズムがある。  \n",
    "詳細は省略するが、ざっくりとしたイメージでは、形状がわからない確率分布（事後分布）の大きさに比例してデータをサンプルするアルゴリズムである。"
   ]
  },
  {
   "cell_type": "code",
   "execution_count": null,
   "metadata": {},
   "outputs": [],
   "source": [
    "d_angel = df_data['silver'].values\n",
    "n_sample = 1000\n",
    "\n",
    "with pm.Model() as model_single:\n",
    "    # 事前分布\n",
    "    theta = pm.Beta('theta', alpha=1, beta=1)\n",
    "    #theta = pm.Uniform('theta', lower=0, upper=1)\n",
    "    # 尤度\n",
    "    y = pm.Binomial('y', n=len(d_angel), p=theta, observed=sum(d_angel))\n",
    "    #y = pm.Bernoulli('obs', p=theta, observed=d_angel) # ベルヌーイ分布\n",
    "    # sample\n",
    "    trace_single = pm.sample(n_sample, chains=4)\n",
    "\n",
    "pm.traceplot(trace_single)"
   ]
  },
  {
   "cell_type": "code",
   "execution_count": null,
   "metadata": {},
   "outputs": [],
   "source": [
    "ret = pm.model_to_graphviz(model_single)\n",
    "ret.render(filename='model_single_01', format='png')\n",
    "ret"
   ]
  },
  {
   "cell_type": "markdown",
   "metadata": {},
   "source": [
    "#### 結果の解釈"
   ]
  },
  {
   "cell_type": "markdown",
   "metadata": {},
   "source": [
    "推定対象である、二項分布のパラメータ$\\theta$(エンゼルの含有率)の事後分布を確認する。\n",
    "なお、以下の図はchain数（MCMCサンプル系列の数）分の結果が同時に表示されている。\n",
    "- 左図:$\\theta$の事後分布\n",
    "- 右図:$\\theta$のサンプル系列。ランダムにサンプルされていることが望ましい。"
   ]
  },
  {
   "cell_type": "code",
   "execution_count": null,
   "metadata": {},
   "outputs": [],
   "source": [
    "fig = plt.figure(figsize=(8, 3))\n",
    "ax = fig.subplots(1,2)\n",
    "ax = ax[np.newaxis, :]\n",
    "\n",
    "pm.traceplot(trace_single, ax=ax)\n",
    "ax[0,0].vlines(x=theta_l, ymin=0, ymax=30, color=\"red\", label=\"MLE\")\n",
    "ax[0,1].hlines(y=theta_l, xmin=0, xmax=n_sample, color=\"red\", label=\"MLE\")\n",
    "\n",
    "plt.savefig('trace_plot_angel_rate.png')"
   ]
  },
  {
   "cell_type": "markdown",
   "metadata": {},
   "source": [
    "chainを全て統合して、事後分布を推定。\n",
    "- 信用区間(HPD)をalpha_levelで指定"
   ]
  },
  {
   "cell_type": "code",
   "execution_count": null,
   "metadata": {},
   "outputs": [],
   "source": [
    "pm.plot_posterior(trace_single, kde_plot=True, alpha_level=0.05)\n",
    "plt.savefig('posterior_angel_rate.png')"
   ]
  },
  {
   "cell_type": "markdown",
   "metadata": {},
   "source": [
    "#### 何個買えばエンゼルが5個当たるのか？\n",
    "- 最尤推定の場合と同様に負の二項分布を利用して推定する"
   ]
  },
  {
   "cell_type": "code",
   "execution_count": null,
   "metadata": {},
   "outputs": [],
   "source": [
    "theta_tr = trace_single['theta']\n",
    "alpha_level = 0.05\n",
    "k = 5\n",
    "xs = np.arange(k+0, k+300, 1)\n",
    "pmf_nb_ex = stats.nbinom.pmf(xs, k, theta_tr.mean())\n",
    "pmf_nb_lb = stats.nbinom.pmf(xs, k, np.percentile(theta_tr, (alpha_level*50.0)))\n",
    "pmf_nb_ub = stats.nbinom.pmf(xs, k, np.percentile(theta_tr, (100.0-alpha_level*50.0)))\n",
    "cdf_nb_ex = pmf_nb_ex.cumsum()\n",
    "cdf_nb_lb = pmf_nb_lb.cumsum()\n",
    "cdf_nb_ub = pmf_nb_ub.cumsum()\n",
    "\n",
    "ex_p = 0.5\n",
    "first_over_ex = list(cdf_nb_ex).index(cdf_nb_ex[cdf_nb_ex>=ex_p].min())\n",
    "first_over_lb = list(cdf_nb_lb).index(cdf_nb_lb[cdf_nb_lb>=ex_p].min())\n",
    "first_over_ub = list(cdf_nb_ub).index(cdf_nb_ub[cdf_nb_ub>=ex_p].min())\n",
    "\n",
    "fig = plt.figure(figsize=(13, 4))\n",
    "ax = fig.subplots(1, 2)\n",
    "\n",
    "ax[0].plot(xs, pmf_nb_ex)\n",
    "ax[0].set_title('Probability Mass Function')\n",
    "ax[0].set_xlabel('False Count')\n",
    "ax[0].set_ylabel('Probability Mass')\n",
    "ax[1].plot(xs, cdf_nb_ex)\n",
    "ax[1].fill_between(xs, cdf_nb_lb, cdf_nb_ub, facecolor='y',alpha=0.5)\n",
    "ax[1].set_title('Cumulative Probability Mass Function')\n",
    "ax[1].set_xlabel('False Count')\n",
    "ax[1].set_ylabel('Cum. Probability')\n",
    "ax[1].set_ylim([0.0, 1.1])\n",
    "ax[1].vlines(x=first_over_ex, ymin=0, ymax=1.0, color=\"red\", label=\"{}% Over (ex)\".format(ex_p))\n",
    "ax[1].vlines(x=first_over_lb, ymin=0, ymax=1.0, color=\"green\", label=\"{}% Over (lb)\".format(ex_p))\n",
    "ax[1].vlines(x=first_over_ub, ymin=0, ymax=1.0, color=\"blue\", label=\"{}% Over (ub)\".format(ex_p))\n",
    "print('{}% Over point:{} ~ {} ~ {} (alpha_level={})'.format(ex_p*100, first_over_ub, first_over_ex, first_over_lb, alpha_level))\n",
    "plt.savefig('purchase_number_bayes.png')"
   ]
  },
  {
   "cell_type": "markdown",
   "metadata": {},
   "source": [
    "## 購入者毎の差（運の良さ）の有無を確認"
   ]
  },
  {
   "cell_type": "markdown",
   "metadata": {},
   "source": [
    "- チョコボールの購入者（３人）によって運の良さが違う気がする\n",
    "- 運の良さというものがあるのかを確認\n",
    "- この例題を通して、グループ間の比較と階層ベイズモデルを体験"
   ]
  },
  {
   "cell_type": "markdown",
   "metadata": {},
   "source": [
    "### 最尤推定量を確認"
   ]
  },
  {
   "cell_type": "code",
   "execution_count": null,
   "metadata": {},
   "outputs": [],
   "source": [
    "buyer = df_data['buyer'].values\n",
    "buyer_idx = pd.Categorical(df_data['buyer']).codes\n",
    "buyer_cat = pd.Categorical(df_data['buyer']).categories\n",
    "df_data['buyer_idx'] = buyer_idx\n",
    "lst_buyer = list(set(buyer_idx))\n",
    "print(buyer_cat)\n",
    "print(set(buyer_idx))"
   ]
  },
  {
   "cell_type": "code",
   "execution_count": null,
   "metadata": {},
   "outputs": [],
   "source": [
    "total_counts = df_data.groupby(['buyer_idx']).count()['silver'].values\n",
    "angel_counts = df_data.query('silver > 0').groupby(['buyer_idx']).count()['silver'].values\n",
    "\n",
    "print('total_count : {}'.format(total_counts))\n",
    "print('angel_count : {}'.format(angel_counts))"
   ]
  },
  {
   "cell_type": "code",
   "execution_count": null,
   "metadata": {},
   "outputs": [],
   "source": [
    "theta_mle = angel_counts/total_counts\n",
    "print(theta_mle)\n",
    "\n",
    "fig = plt.figure(figsize=(8, 3))\n",
    "ax = fig.subplots(1, 1)\n",
    "cs = ['#FF4500', '#0000FF', '#00F1A1']\n",
    "for idx in np.arange(0, len(theta_mle)):\n",
    "    ax.vlines(theta_mle[idx], 0, 1, colors=cs[idx%len(cs)], label=buyer_cat[idx])\n",
    "ax.set_xlim((0.0, 0.1))\n",
    "ax.set_xlabel('$\\\\theta_{MLE}$')\n",
    "ax.legend()\n",
    "plt.savefig('buyer_effect_mle.png')"
   ]
  },
  {
   "cell_type": "markdown",
   "metadata": {},
   "source": [
    "### グループ間の比較\n",
    "- 購入者毎にエンゼル出現確率を推定"
   ]
  },
  {
   "cell_type": "code",
   "execution_count": null,
   "metadata": {},
   "outputs": [],
   "source": [
    "with pm.Model() as model_iso:\n",
    "    # thetaは購入者数分サンプル\n",
    "    theta = pm.Beta('theta', alpha=1, beta=1, shape=len(set(buyer_idx)))\n",
    "    \n",
    "    angel = pm.Binomial('angel', n=total_counts[lst_buyer], p=theta[lst_buyer], observed=angel_counts[lst_buyer])\n",
    "    \n",
    "    trace_iso = pm.sample(5000, chains=1, random_seed=100)\n",
    "pm.traceplot(trace_iso)"
   ]
  },
  {
   "cell_type": "code",
   "execution_count": null,
   "metadata": {},
   "outputs": [],
   "source": [
    "ret = pm.model_to_graphviz(model_iso)\n",
    "ret.render(filename='model_multi_01', format='png')\n",
    "ret"
   ]
  },
  {
   "cell_type": "markdown",
   "metadata": {},
   "source": [
    "#### パラメータの事後分布を確認"
   ]
  },
  {
   "cell_type": "code",
   "execution_count": null,
   "metadata": {},
   "outputs": [],
   "source": [
    "fig = plt.figure(figsize=(8, 4))\n",
    "ax = fig.subplots(1, 1)\n",
    "\n",
    "cs = ['#0101DF', '#FF8000', '#04B404']\n",
    "for i in np.arange(len(buyer_cat)):\n",
    "    sns.distplot(trace_iso['theta'][:,i], label=buyer_cat[i], ax=ax)\n",
    "    ax.vlines(x=theta_mle[i], ymin=0, ymax=25, color=cs[i], label=\"MLE_{}\".format(buyer_cat[i]))\n",
    "ax.legend()\n",
    "ax.set_xlabel('angel rate')\n",
    "ax.set_ylabel('frequent')\n",
    "plt.savefig('buyer_effect_iso.png')"
   ]
  },
  {
   "cell_type": "markdown",
   "metadata": {},
   "source": [
    "#### 差の分布を確認"
   ]
  },
  {
   "cell_type": "code",
   "execution_count": null,
   "metadata": {},
   "outputs": [],
   "source": [
    "# 差の分布を確認\n",
    "n_c = len(list(itertools.combinations(np.arange(0, len(lst_buyer)), 2)))\n",
    "n_col = 3\n",
    "n_row = math.ceil(n_c/n_col)\n",
    "fig = plt.figure(figsize=(12, 3*n_row))\n",
    "ax = fig.subplots(n_row, n_col)\n",
    "if n_row == 1:\n",
    "    ax = ax[np.newaxis, :]\n",
    "\n",
    "cnt=0\n",
    "for (i,j) in itertools.combinations(np.arange(0, len(lst_buyer)), 2):\n",
    "    theta_diff = trace_iso['theta'][:, i] - trace_iso['theta'][:, j]\n",
    "    pm.plot_posterior(theta_diff, ref_val=0, ax=ax[int(cnt/n_col), int(cnt%n_col)])\n",
    "    ax[int(cnt/n_col), int(cnt%n_col)].set_title('{}-{}'.format(buyer_cat[i], buyer_cat[j]))\n",
    "    cnt+=1\n",
    "plt.savefig('buyer_effect_diff_isomodel.png')"
   ]
  },
  {
   "cell_type": "markdown",
   "metadata": {},
   "source": [
    "### 運の要素をパラメータに追加\n",
    "- 真の出現率は決まっているはず(真の確率を$p$とする)\n",
    "- 購入者毎の運の要素が入ってくる（不正行為かも、独自の購入戦略があるのかも）可能性がある\n",
    "  - 購入者毎の特性を個人差$u_i$とする\n",
    "- エンゼルの出現は確率$\\theta_i$の二項分布\n",
    "- 確率$\\theta_i$は以下のロジットリンク関数で線形モデルを仮定\n",
    "$$\n",
    "logit(\\theta_i) = p + u_i\n",
    "$$\n",
    "\n",
    "- $p$、$u_i$は正規分布を事前分布とする"
   ]
  },
  {
   "cell_type": "code",
   "execution_count": null,
   "metadata": {},
   "outputs": [],
   "source": [
    "with pm.Model() as comparing_buyer_m1:\n",
    "    su = pm.HalfNormal('su', sd=20)\n",
    "    p = pm.Normal('p', mu=0, sd=20)\n",
    "    u = pm.Normal('u', mu=0, sd=su, shape=len(set(buyer_idx)))\n",
    "    \n",
    "    theta = pm.Deterministic('theta', pm.math.sigmoid(p+u[lst_buyer]))\n",
    "    angel = pm.Binomial('angel', \n",
    "                        n=total_counts[lst_buyer], \n",
    "                        p=theta, observed=angel_counts[lst_buyer])\n",
    "    \n",
    "    trace_h1 = pm.sample(3000, chains=3, random_seed=100)\n",
    "pm.traceplot(trace_h1)"
   ]
  },
  {
   "cell_type": "code",
   "execution_count": null,
   "metadata": {},
   "outputs": [],
   "source": [
    "ret = pm.model_to_graphviz(comparing_buyer_m1)\n",
    "ret.render(filename='model_multi_02', format='png')\n",
    "ret"
   ]
  },
  {
   "cell_type": "code",
   "execution_count": null,
   "metadata": {},
   "outputs": [],
   "source": [
    "pm.plot_posterior(trace_h1, varnames=['p', 'u'])"
   ]
  },
  {
   "cell_type": "markdown",
   "metadata": {},
   "source": [
    "#### 購入者毎の個人差（運の要素）の事後分布"
   ]
  },
  {
   "cell_type": "code",
   "execution_count": null,
   "metadata": {},
   "outputs": [],
   "source": [
    "fig = plt.figure(figsize=(8, 4))\n",
    "ax = fig.subplots(1, 1)\n",
    "\n",
    "for i in np.arange(len(buyer_cat)):\n",
    "    sns.distplot(trace_h1['u'][:,i], label=buyer_cat[i], ax=ax)\n",
    "ax.legend()\n",
    "ax.set_xlabel('angel rate')\n",
    "ax.set_ylabel('frequent')\n",
    "plt.savefig('buyer_effect_h1model.png')"
   ]
  },
  {
   "cell_type": "code",
   "execution_count": null,
   "metadata": {},
   "outputs": [],
   "source": [
    "# 差の分布を確認\n",
    "n_c = len(list(itertools.combinations(np.arange(0, 3), 2)))\n",
    "n_col = 3\n",
    "n_row = math.ceil(n_c/n_col)\n",
    "fig = plt.figure(figsize=(12, 3*n_row))\n",
    "ax = fig.subplots(n_row, n_col)\n",
    "if n_row == 1:\n",
    "    ax = ax[np.newaxis, :]\n",
    "\n",
    "cnt=0\n",
    "for (i,j) in itertools.combinations(np.arange(0, 3), 2):\n",
    "    u_diff = trace_h1['u'][:, i] - trace_h1['u'][:, j]\n",
    "    pm.plot_posterior(u_diff, ref_val=0, ax=ax[int(cnt/n_col), int(cnt%n_col)])\n",
    "    ax[int(cnt/n_col), int(cnt%n_col)].set_title('{}-{}'.format(buyer_cat[i], buyer_cat[j]))\n",
    "    cnt+=1\n",
    "plt.savefig('buyer_effect_diff_h1model.png')"
   ]
  },
  {
   "cell_type": "markdown",
   "metadata": {},
   "source": [
    "#### 全体のエンゼルの出現確率の推定\n",
    "- モデルに寄れば、エンゼルの出現確率$\\theta_i$は以下のロジットリンク関数と線形予測子で表現していた\n",
    "$$\n",
    "logit(\\theta_i) = p + u_i\n",
    "$$\n",
    "- そのため、確率に変換するために、ロジスティック・シグモイド関数(下記)に通す必要がある\n",
    "$$\n",
    "\\sigma(x) = \\frac{1}{1+\\exp(-x)}\n",
    "$$"
   ]
  },
  {
   "cell_type": "code",
   "execution_count": null,
   "metadata": {},
   "outputs": [],
   "source": [
    "def sigmoid(x):\n",
    "    return 1.0 / (1.0 + np.exp(-x))"
   ]
  },
  {
   "cell_type": "code",
   "execution_count": null,
   "metadata": {},
   "outputs": [],
   "source": [
    "(post_min, post_max) = pm.hpd(trace_h1['p'], alpha=0.1)\n",
    "post_mean = pm.summary(trace_h1).loc['p', 'mean']\n",
    "print('{} < {} < {}'.format(sigmoid(post_min), sigmoid(post_mean), sigmoid(post_max)))"
   ]
  },
  {
   "cell_type": "code",
   "execution_count": null,
   "metadata": {},
   "outputs": [],
   "source": []
  }
 ],
 "metadata": {
  "kernelspec": {
   "display_name": "Python 3",
   "language": "python",
   "name": "python3"
  },
  "language_info": {
   "codemirror_mode": {
    "name": "ipython",
    "version": 3
   },
   "file_extension": ".py",
   "mimetype": "text/x-python",
   "name": "python",
   "nbconvert_exporter": "python",
   "pygments_lexer": "ipython3",
   "version": "3.7.3"
  }
 },
 "nbformat": 4,
 "nbformat_minor": 2
}
