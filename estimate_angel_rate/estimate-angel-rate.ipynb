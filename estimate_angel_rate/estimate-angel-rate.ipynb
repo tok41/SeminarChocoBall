{
 "cells": [
  {
   "cell_type": "markdown",
   "metadata": {},
   "source": [
    "# チョコボールのエンゼルの出現確率を推定する"
   ]
  },
  {
   "cell_type": "code",
   "execution_count": null,
   "metadata": {},
   "outputs": [],
   "source": [
    "# ライブラリのインポート\n",
    "import sys, os\n",
    "import numpy as np\n",
    "import pandas as pd\n",
    "import scipy.stats as stats\n",
    "import pymc3 as pm\n",
    "\n",
    "import matplotlib.pyplot as plt\n",
    "import seaborn as sns\n",
    "%matplotlib inline"
   ]
  },
  {
   "cell_type": "code",
   "execution_count": null,
   "metadata": {},
   "outputs": [],
   "source": [
    "# プロットする図を綺麗にする\n",
    "sns.set()"
   ]
  },
  {
   "cell_type": "markdown",
   "metadata": {},
   "source": [
    "## データを確認する\n",
    "エンゼルの有無は`angel`列に記録されており、数値との関係は以下の通り\n",
    "- 0 : エンゼル無し\n",
    "- 1 : 銀のエンゼル\n",
    "- 2 : 金のエンゼル\n",
    "\n",
    "`campaign`列に開催中のキャンペーンIDが記録されている。\n",
    "キャンペーンID=1の商品は、金のエンゼルの出現確率は2倍だが、銀のエンゼルの出現確率は0%である。"
   ]
  },
  {
   "cell_type": "code",
   "execution_count": null,
   "metadata": {},
   "outputs": [],
   "source": [
    "# データの読み込み\n",
    "data_raw = pd.read_csv('../data/chocoball_raw.csv')\n",
    "tastes = pd.read_csv('../data/choco_tastes.csv')\n",
    "\n",
    "print('data_raw.shape:', data_raw.shape)\n",
    "print('tastes.shape:', tastes.shape)"
   ]
  },
  {
   "cell_type": "code",
   "execution_count": null,
   "metadata": {},
   "outputs": [],
   "source": [
    "data_raw.head()"
   ]
  },
  {
   "cell_type": "code",
   "execution_count": null,
   "metadata": {},
   "outputs": [],
   "source": [
    "tastes"
   ]
  },
  {
   "cell_type": "markdown",
   "metadata": {},
   "source": [
    "エンゼルの出現数を確認する"
   ]
  },
  {
   "cell_type": "code",
   "execution_count": null,
   "metadata": {},
   "outputs": [],
   "source": [
    "data_raw.groupby(['campaign', 'angel']).count()[['taste']]"
   ]
  },
  {
   "cell_type": "markdown",
   "metadata": {},
   "source": [
    "銀のエンゼルの出現確率を予測する際に、`campaign=1`のデータを使わないようにする。"
   ]
  },
  {
   "cell_type": "code",
   "execution_count": null,
   "metadata": {},
   "outputs": [],
   "source": [
    "df_data = data_raw[data_raw['campaign']!=1]\n",
    "print('df_data.shape:', df_data.shape)\n",
    "df_data.groupby(['campaign', 'angel']).count()[['taste']]"
   ]
  },
  {
   "cell_type": "code",
   "execution_count": null,
   "metadata": {},
   "outputs": [],
   "source": [
    "df_data.groupby(['angel']).count()[['taste']]"
   ]
  },
  {
   "cell_type": "markdown",
   "metadata": {},
   "source": [
    "## 仮定\n",
    "- エンゼルはランダムに入っている\n",
    "- 時期やフレーバーに依って確率は変化しない\n"
   ]
  },
  {
   "cell_type": "markdown",
   "metadata": {},
   "source": [
    "## 最尤推定でパラメータを推定する"
   ]
  },
  {
   "cell_type": "markdown",
   "metadata": {},
   "source": [
    "### モデル設定\n",
    "- (スライド参照)\n",
    "- エンゼルの出現を二項分布でモデル化する\n",
    "  - エンゼルの出現確率を$\\theta$とする\n",
    "  - チョコボールの購入数（試行数）を$n$とする\n",
    "$$\n",
    "f(k|\\theta) = \\binom{n}{k}\\theta^{k}(1-\\theta)^{n-k}\n",
    "$$"
   ]
  },
  {
   "cell_type": "markdown",
   "metadata": {},
   "source": [
    "### 最尤推定量の計算\n",
    "- (スライド参照)\n",
    "- 求めたいパラメータはエンゼルの出現確率である$\\theta$\n",
    "- 最尤推定では、対数尤度$\\log{L(\\theta|X)}$をパラメータ$\\theta$で微分して0となる値を推定値とする\n",
    "\n",
    "$$\n",
    "L(\\theta|X)=\\prod^{N}_{i=1}{f(k|\\theta)} = \\binom{n}{k}\\theta^{k}(1-\\theta)^{n-k} \\\\\n",
    "\\log{L(\\theta|X)} = \\log{\\binom{n}{k}\\theta^{k}(1-\\theta)^{n-k}} \\\\\n",
    "\\qquad\\qquad\\qquad\\qquad\\qquad = \\log{\\binom{n}{k}} + \\theta\\log{{k}} + (1-\\theta)\\log{{n-k}} \\\\\n",
    "$$\n",
    "\n",
    "微分して0となるパラメータ\n",
    "\n",
    "$$\n",
    "\\frac{d\\log{L(\\theta|X)}}{d\\theta} = 0 \\\\\n",
    "\\hat{\\theta} = \\frac{k}{n}\n",
    "$$\n",
    "\n",
    "ということで、長々と数式を展開してきたが、結局は標本平均となる。"
   ]
  },
  {
   "cell_type": "code",
   "execution_count": null,
   "metadata": {},
   "outputs": [],
   "source": [
    "theta_l = np.sum(df_data['angel']) / np.size(df_data['angel'].values)\n",
    "print('estimated value(MLP):', theta_l)"
   ]
  },
  {
   "cell_type": "markdown",
   "metadata": {
    "toc-hr-collapsed": false
   },
   "source": [
    "### 推定値の活用\n",
    "統計モデリングができたら、その結果を活用して様々なことができる。"
   ]
  },
  {
   "cell_type": "markdown",
   "metadata": {},
   "source": [
    "#### 推定値をパラメータとした二項分布を確認\n",
    "二項分布は試行数nを所与として、何回あたりを引くかの分布。"
   ]
  },
  {
   "cell_type": "code",
   "execution_count": null,
   "metadata": {},
   "outputs": [],
   "source": [
    "ks = np.arange(0, 20, 1)\n",
    "n = 100\n",
    "\n",
    "# 確率質量関数を計算\n",
    "pmf = stats.binom.pmf(ks, n, p=theta_l)\n",
    "\n",
    "# Plot\n",
    "plt.scatter(ks, pmf, label='n_sample={}'.format(n))\n",
    "plt.legend()\n",
    "plt.xlabel('k (number of angel)')\n",
    "plt.ylabel('probability')\n",
    "plt.savefig('binom_mle.png')"
   ]
  },
  {
   "cell_type": "markdown",
   "metadata": {},
   "source": [
    "#### 何個買えばエンゼルが5個当たるのか？\n",
    "- 二項分布を使って、当たりの数を所与として、尤度を算出することは可能\n",
    "- 上記の推定を確率分布で考える場合、負の二項分布を利用する（ベルヌーイ試行）\n",
    "  - $k$ : 成功数（エンゼルの出現数）\n",
    "  - $x$ : k回成功するまでの失敗回数\n",
    "  - $\\theta$ : 1回の成功確率（エンゼルの出現確率）\n",
    "$$\n",
    "f(x|\\theta) = \\binom{k+x-1}{x}\\theta^{k}(1-\\theta)^{x}\n",
    "$$"
   ]
  },
  {
   "cell_type": "code",
   "execution_count": null,
   "metadata": {},
   "outputs": [],
   "source": [
    "k = 5\n",
    "xs = np.arange(k+0, k+300, 1)\n",
    "\n",
    "# 確率分布の計算\n",
    "pmf_nb = stats.nbinom.pmf(xs, k, theta_l)\n",
    "cdf_nb = pmf_nb.cumsum()\n",
    "\n",
    "# 累積確率が50%を超える位置を算出\n",
    "first_over_50 = list(cdf_nb).index(cdf_nb[cdf_nb>0.5].min())\n",
    "\n",
    "# plot\n",
    "fig = plt.figure(figsize=(13, 4))\n",
    "ax = fig.subplots(1, 2)\n",
    "ax[0].plot(xs, pmf_nb)\n",
    "ax[0].set_title('Probability Mass Function')\n",
    "ax[0].set_xlabel('False Count')\n",
    "ax[0].set_ylabel('Probability Mass')\n",
    "ax[1].plot(xs, cdf_nb)\n",
    "ax[1].set_title('Cumulative Probability Mass Function')\n",
    "ax[1].set_xlabel('False Count')\n",
    "ax[1].set_ylabel('Cum. Probability')\n",
    "ax[1].set_ylim([0.0, 1.1])\n",
    "ax[1].vlines(x=first_over_50, ymin=0, ymax=1.0, color=\"red\", label=\"50% Over\")\n",
    "print('50% Over point:{}, ({}+{})'.format(first_over_50 + k, first_over_50, k))\n",
    "plt.savefig('purchase_number_mle.png')"
   ]
  },
  {
   "cell_type": "markdown",
   "metadata": {},
   "source": [
    "#### エンゼルの出現をシミュレーション\n",
    "n_trial回チョコボールを開封した時に、エンゼルが幾つ出るかのシミュレーション。  \n",
    "意外と少ない場合(2個とか3個)も発生し得る。"
   ]
  },
  {
   "cell_type": "code",
   "execution_count": null,
   "metadata": {},
   "outputs": [],
   "source": [
    "n_sample = 1000\n",
    "n_trial = 100  # チョコボールを開ける個数\n",
    "\n",
    "# シミュレーションの実行\n",
    "with pm.Model() as model_angel:\n",
    "    x = pm.Binomial('x', n=n_trial, p=theta_l)\n",
    "    trace = pm.sample(n_sample, chains=1)\n",
    "\n",
    "# plot\n",
    "b = np.arange(0, max(trace['x'])+1, 1)\n",
    "plt.hist(trace['x'], bins=b)\n",
    "plt.xlabel('n_angel')\n",
    "plt.savefig('simulation_mle.png')"
   ]
  },
  {
   "cell_type": "markdown",
   "metadata": {},
   "source": [
    "## ベイズ推定でパラメータを推定する"
   ]
  },
  {
   "cell_type": "markdown",
   "metadata": {},
   "source": [
    "### モデル設定\n",
    "- (スライド資料参照)\n",
    "- ベイズの式を思い出す\n",
    "    - $p(\\theta | x) \\propto p(x | \\theta)p(\\theta)$\n",
    "    - x : n個のチョコボールを開封して出たエンゼルの数\n",
    "    - $\\theta$ : 確率分布のパラメータ（エンゼルの含有率）\n",
    "    - 尤度$p(x | \\theta)$と事前分布$p(\\theta)$を設定する必要がある\n",
    "- 尤度関数\n",
    "    - 最尤推定と同様に、二項分布を利用\n",
    "    - $p(x | \\theta) = \\binom{n}{x}\\theta^x(1-\\theta)^{N-x}$\n",
    "- 事前分布\n",
    "    - ベータ分布\n",
    "    - $p(\\theta) = \\frac{\\Gamma(\\alpha + \\beta)}{\\Gamma(\\alpha)\\Gamma(\\beta)}\\theta^{\\alpha-1}(1-\\theta)^{\\beta-1}$\n"
   ]
  },
  {
   "cell_type": "markdown",
   "metadata": {},
   "source": [
    "#### ベータ分布の形状を見てみる"
   ]
  },
  {
   "cell_type": "code",
   "execution_count": null,
   "metadata": {},
   "outputs": [],
   "source": [
    "params = [0.1, 1, 2, 10] # alpha, betaの例\n",
    "\n",
    "x = np.linspace(0, 1, 100) # x軸の設定\n",
    "\n",
    "fig = plt.figure(figsize=(13, 10))\n",
    "ax = fig.subplots(len(params), len(params), sharex=True, sharey=True)\n",
    "cnt=0\n",
    "for i in range(len(params)):\n",
    "    for j in range(len(params)):\n",
    "        # パラメータalphaとbetaを設定\n",
    "        a = params[i]\n",
    "        b = params[j]\n",
    "        # ベータ分布の確率密度を計算\n",
    "        y = stats.beta(a, b).pdf(x)\n",
    "        # plot\n",
    "        ax[i, j].plot(x, y)\n",
    "        ax[i, j].plot(0, 0, label=\"$\\\\alpha$ = {:3.2f}\\n$\\\\beta$ = {:3.2f}\".format(a, b), alpha=0)\n",
    "        ax[i, j].legend()\n",
    "        if i == (len(params)-1):\n",
    "            ax[i,j].set_xlabel('$\\\\theta$')\n",
    "        if j == 0:\n",
    "            ax[i,j].set_ylabel('$p(\\\\theta)$')\n",
    "plt.savefig('beta_dist_var.png')"
   ]
  },
  {
   "cell_type": "markdown",
   "metadata": {},
   "source": [
    "### 解析的な計算方法(共役事前分布)"
   ]
  },
  {
   "cell_type": "markdown",
   "metadata": {},
   "source": [
    "ベイズの定理を再度思い出す。\n",
    "事後分布は尤度関数と事前分布の積に比例するという式である。\n",
    "$$\n",
    "p(\\theta | y) \\propto p(y | \\theta)p(\\theta)\n",
    "$$\n",
    "尤度関数には、二項分布で事前分布はベータ分布と定義したので、\n",
    "ベイズの定理は以下のような式になる。\n",
    "$$\n",
    "p(\\theta | y) \\propto \\frac{N!}{y!(N-y)!}\\theta^y(1-\\theta)^{N-y}\\frac{\\Gamma(\\alpha + \\beta)}{\\Gamma(\\alpha)\\Gamma(\\beta)}\\theta^{\\alpha-1}(1-\\theta)^{\\beta-1}\n",
    "$$\n",
    "\n",
    "$\\theta$に関係しない部分は比例定数として押し込めてしまうことで、\n",
    "以下の式が得られる。\n",
    "\n",
    "$$\n",
    "p(\\theta | y)　\\propto \\theta^{\\alpha-1+y}(1-\\theta)^{\\beta-1+N-y}\n",
    "$$\n",
    "\n",
    "この式はベータ分布に一致する。\n",
    "$$\n",
    "p(\\theta | y)　= Beta(\\alpha_{prior}+y, \\beta_{prior}+N-y)\n",
    "$$\n",
    "\n",
    "つまり、今回のモデル定義においては、解析的に事後分布を導くことができた。  \n",
    "このように尤度関数との積が同じ関数になる事前分布を「共役事前分布」と呼ぶ。\n",
    "共役事前分布をモデルに利用すれば解析的に解を求めることができるが、\n",
    "もっと複雑なモデルを使う場合には、一般的に解析解が得られない。"
   ]
  },
  {
   "cell_type": "markdown",
   "metadata": {},
   "source": [
    "### 数値的な計算方法(MCMC)"
   ]
  },
  {
   "cell_type": "markdown",
   "metadata": {},
   "source": [
    "#### 計算の実行\n",
    "複雑なモデルや共役でない事前分布を使う場合、計算が困難か解析的には計算が不可能な場合がある。  \n",
    "このような場合にも事後分布を計算するアルゴリズムとして、\n",
    "マルコフチェーンモンテカルロ（MCMC）と呼ばれるアルゴリズムがある。  \n",
    "詳細は省略するが、ざっくりとしたイメージでは、形状がわからない確率分布（事後分布）の大きさに比例してデータをサンプルするアルゴリズムである。"
   ]
  },
  {
   "cell_type": "code",
   "execution_count": null,
   "metadata": {},
   "outputs": [],
   "source": [
    "d_angel = df_data['angel'].values\n",
    "n_sample = 10000\n",
    "\n",
    "with pm.Model() as model:\n",
    "    # 事前分布\n",
    "    #theta = pm.Beta('theta', alpha=1, beta=1)\n",
    "    theta = pm.Uniform('theta', lower=0, upper=1)\n",
    "    # 尤度\n",
    "    y = pm.Binomial('y', n=len(d_angel), p=theta, observed=sum(d_angel))\n",
    "    # sample\n",
    "    trace = pm.sample(n_sample, chains=4)\n",
    "\n",
    "pm.traceplot(trace)\n"
   ]
  },
  {
   "cell_type": "code",
   "execution_count": null,
   "metadata": {},
   "outputs": [],
   "source": [
    "pm.plot_posterior(trace)"
   ]
  },
  {
   "cell_type": "code",
   "execution_count": null,
   "metadata": {},
   "outputs": [],
   "source": [
    "d_angel = df_data['angel'].values\n",
    "n_sample = 10000\n",
    "\n",
    "with pm.Model() as model_angel:\n",
    "    # 事前分布の設定\n",
    "    #theta = pm.Uniform('theta', lower=0, upper=1) # 一様分布\n",
    "    theta = pm.Beta('theta', alpha=1.0, beta=1.0) # 一様分布\n",
    "    #theta = pm.Beta('theta', alpha=1, beta=2) # 上記ベータ分布の例参照\n",
    "    \n",
    "    # 尤度関数の設定\n",
    "    obs = pm.Binomial('obs', n=len(d_angel), p=theta, observed=sum(d_angel))\n",
    "    #obs = pm.Bernoulli('obs', p=theta, observed=d_angel) # ベルヌーイ分布\n",
    "    \n",
    "    # MCMCサンプルを得る\n",
    "    trace = pm.sample(n_sample, chains=4)"
   ]
  },
  {
   "cell_type": "markdown",
   "metadata": {},
   "source": [
    "#### 結果の解釈"
   ]
  },
  {
   "cell_type": "markdown",
   "metadata": {},
   "source": [
    "推定対象である、二項分布のパラメータ$\\theta$(エンゼルの含有率)の事後分布を確認する。\n",
    "なお、以下の図はchain数（MCMCサンプル系列の数）分の結果が同時に表示されている。\n",
    "- 左図:$\\theta$の事後分布\n",
    "- 右図:$\\theta$のサンプル系列。ランダムにサンプルされていることが望ましい。"
   ]
  },
  {
   "cell_type": "code",
   "execution_count": null,
   "metadata": {},
   "outputs": [],
   "source": [
    "fig = plt.figure(figsize=(8, 3))\n",
    "ax = fig.subplots(1,2)\n",
    "ax = ax[np.newaxis, :]\n",
    "\n",
    "pm.traceplot(trace, ax=ax)\n",
    "ax[0,0].vlines(x=theta_l, ymin=0, ymax=10, color=\"red\", label=\"MLE\")\n",
    "ax[0,1].hlines(y=theta_l, xmin=0, xmax=n_sample, color=\"red\", label=\"MLE\")\n",
    "\n",
    "plt.savefig('trace_plot_angel_rate.png')"
   ]
  },
  {
   "cell_type": "markdown",
   "metadata": {},
   "source": [
    "次に、統計量を確認する。"
   ]
  },
  {
   "cell_type": "code",
   "execution_count": null,
   "metadata": {},
   "outputs": [],
   "source": [
    "pm.summary(trace)"
   ]
  },
  {
   "cell_type": "markdown",
   "metadata": {},
   "source": [
    "- mean:事後分布の期待値\n",
    "- sd:サンプルの標本標準偏差\n",
    "- mc_error:サンプリングに起因する誤差の推定値\n",
    "- hpd_2.5:95%信用区間の下限\n",
    "- hpd_97.5:95%信用区間の上限\n",
    "- n_eff:サンプルサイズの効果量\n",
    "- Rhat:chain間の分散とchain内の分散の比のようなもの。1に近いほど良い。大きい場合は、収束していないchainがある。"
   ]
  },
  {
   "cell_type": "markdown",
   "metadata": {},
   "source": [
    "chainを全て統合して、事後分布を推定。\n",
    "- 信用区間(HPD)をalpha_levelで指定"
   ]
  },
  {
   "cell_type": "code",
   "execution_count": null,
   "metadata": {},
   "outputs": [],
   "source": [
    "pm.plot_posterior(trace, kde_plot=True, alpha_level=0.05)\n",
    "plt.savefig('posterior_angel_rate.png')"
   ]
  },
  {
   "cell_type": "markdown",
   "metadata": {},
   "source": [
    "#### 何個買えばエンゼルが5個当たるのか？\n",
    "- 最尤推定の場合と同様に負の二項分布を利用して推定する"
   ]
  },
  {
   "cell_type": "code",
   "execution_count": null,
   "metadata": {},
   "outputs": [],
   "source": [
    "theta_tr = trace['theta']\n",
    "alpha_level = 0.05\n",
    "k = 5\n",
    "xs = np.arange(k+0, k+300, 1)\n",
    "pmf_nb_ex = stats.nbinom.pmf(xs, k, theta_tr.mean())\n",
    "pmf_nb_lb = stats.nbinom.pmf(xs, k, np.percentile(theta_tr, (alpha_level*50.0)))\n",
    "pmf_nb_ub = stats.nbinom.pmf(xs, k, np.percentile(theta_tr, (100.0-alpha_level*50.0)))\n",
    "cdf_nb_ex = pmf_nb_ex.cumsum()\n",
    "cdf_nb_lb = pmf_nb_lb.cumsum()\n",
    "cdf_nb_ub = pmf_nb_ub.cumsum()\n",
    "\n",
    "ex_p = 0.5\n",
    "first_over_ex = list(cdf_nb_ex).index(cdf_nb_ex[cdf_nb_ex>=ex_p].min())\n",
    "first_over_lb = list(cdf_nb_lb).index(cdf_nb_lb[cdf_nb_lb>=ex_p].min())\n",
    "first_over_ub = list(cdf_nb_ub).index(cdf_nb_ub[cdf_nb_ub>=ex_p].min())\n",
    "\n",
    "fig = plt.figure(figsize=(13, 4))\n",
    "ax = fig.subplots(1, 2)\n",
    "\n",
    "ax[0].plot(xs, pmf_nb_ex)\n",
    "ax[0].set_title('Probability Mass Function')\n",
    "ax[0].set_xlabel('False Count')\n",
    "ax[0].set_ylabel('Probability Mass')\n",
    "ax[1].plot(xs, cdf_nb_ex)\n",
    "ax[1].fill_between(xs, cdf_nb_lb, cdf_nb_ub, facecolor='y',alpha=0.5)\n",
    "ax[1].set_title('Cumulative Probability Mass Function')\n",
    "ax[1].set_xlabel('False Count')\n",
    "ax[1].set_ylabel('Cum. Probability')\n",
    "ax[1].set_ylim([0.0, 1.1])\n",
    "ax[1].vlines(x=first_over_ex, ymin=0, ymax=1.0, color=\"red\", label=\"{}% Over (ex)\".format(ex_p))\n",
    "ax[1].vlines(x=first_over_lb, ymin=0, ymax=1.0, color=\"green\", label=\"{}% Over (lb)\".format(ex_p))\n",
    "ax[1].vlines(x=first_over_ub, ymin=0, ymax=1.0, color=\"blue\", label=\"{}% Over (ub)\".format(ex_p))\n",
    "print('{}% Over point:{} ~ {} ~ {} (alpha_level={})'.format(ex_p*100, first_over_ub, first_over_ex, first_over_lb, alpha_level))\n",
    "plt.savefig('purchase_number_bayes.png')"
   ]
  },
  {
   "cell_type": "code",
   "execution_count": null,
   "metadata": {},
   "outputs": [],
   "source": []
  }
 ],
 "metadata": {
  "kernelspec": {
   "display_name": "Python 3",
   "language": "python",
   "name": "python3"
  },
  "language_info": {
   "codemirror_mode": {
    "name": "ipython",
    "version": 3
   },
   "file_extension": ".py",
   "mimetype": "text/x-python",
   "name": "python",
   "nbconvert_exporter": "python",
   "pygments_lexer": "ipython3",
   "version": "3.7.0"
  }
 },
 "nbformat": 4,
 "nbformat_minor": 2
}
