{
 "cells": [
  {
   "cell_type": "markdown",
   "metadata": {},
   "source": [
    "# 階層ベイズモデル\n",
    "- 事前分布のパラメータに事前分布（階層事前分布）を仮定し、事前分布のパラメータも合わせて推定する\n",
    "  - データ数に偏りがある場合に、推定の偏りを低減できる\n",
    "  - サンプルデータのグループの上位の階層を想定したモデルを構築できる"
   ]
  },
  {
   "cell_type": "code",
   "execution_count": null,
   "metadata": {},
   "outputs": [],
   "source": [
    "import sys, os\n",
    "import numpy as np\n",
    "import pandas as pd\n",
    "import scipy.stats as stats\n",
    "import pymc3 as pm\n",
    "import math\n",
    "\n",
    "import matplotlib.pyplot as plt\n",
    "import seaborn as sns\n",
    "%matplotlib inline"
   ]
  },
  {
   "cell_type": "code",
   "execution_count": null,
   "metadata": {},
   "outputs": [],
   "source": [
    "# プロットする図を綺麗にする\n",
    "sns.set()"
   ]
  },
  {
   "cell_type": "markdown",
   "metadata": {},
   "source": [
    "## データ確認"
   ]
  },
  {
   "cell_type": "code",
   "execution_count": null,
   "metadata": {},
   "outputs": [],
   "source": [
    "data = pd.read_csv('../data/angel_data_for_publish.csv')\n",
    "tastes = pd.read_csv('../data/choco_tastes.csv')"
   ]
  },
  {
   "cell_type": "code",
   "execution_count": null,
   "metadata": {},
   "outputs": [],
   "source": [
    "data = data.query('taste in [0,1,12]') # 特定の味だけのデータに選別\n",
    "data.head()"
   ]
  },
  {
   "cell_type": "code",
   "execution_count": null,
   "metadata": {},
   "outputs": [],
   "source": [
    "tastes.head()"
   ]
  },
  {
   "cell_type": "code",
   "execution_count": null,
   "metadata": {},
   "outputs": [],
   "source": [
    "data.groupby(['taste']).count()[['angel']]"
   ]
  },
  {
   "cell_type": "code",
   "execution_count": null,
   "metadata": {},
   "outputs": [],
   "source": [
    "fig = plt.figure(figsize=(16, 4))\n",
    "ax = fig.subplots(1, 2)\n",
    "\n",
    "bins = np.linspace(0, 5.0, 30)\n",
    "grp = data.groupby(['taste'])\n",
    "for key, value in grp:\n",
    "    spec = tastes.query('id == {}'.format(key))['spec'].values[0]\n",
    "    taste_name = tastes.query('id == {}'.format(key))['name_en'].values[0]\n",
    "    sns.distplot(value[\"net_weight\"], bins=np.linspace(21, 33, 50), hist=True, label=taste_name, ax=ax[0])\n",
    "    sns.distplot((value[\"net_weight\"] - spec), bins=bins, hist=True, label=taste_name, ax=ax[1])\n",
    "ax[0].set_xlabel(\"NetWeight [g]\")\n",
    "ax[1].set_xlabel(\"(NetWeight - Spec) [g]\")\n",
    "ax[0].legend()\n",
    "ax[1].legend()\n",
    "fig.savefig(\"weight_histogram.png\")"
   ]
  },
  {
   "cell_type": "code",
   "execution_count": null,
   "metadata": {},
   "outputs": [],
   "source": [
    "data.groupby(['buyer', 'angel']).count()[['taste']]"
   ]
  },
  {
   "cell_type": "markdown",
   "metadata": {},
   "source": [
    "## 正味重量を独立にベイズモデルで推定"
   ]
  },
  {
   "cell_type": "code",
   "execution_count": null,
   "metadata": {},
   "outputs": [],
   "source": [
    "taste = data['taste'].values\n",
    "taste_idx = pd.Categorical(data['taste']).codes\n",
    "spec_lst = np.array([tastes.query('id == {}'.format(i))['spec'].values[0] for i in set(taste)])\n",
    "print(spec_lst)\n",
    "print(set(taste))\n",
    "print(set(taste_idx))"
   ]
  },
  {
   "cell_type": "markdown",
   "metadata": {},
   "source": [
    "### モデル設定\n",
    "- ベイズの式を再度思い出す\n",
    "    - $p(\\theta | x) \\propto p(x | \\theta)p(\\theta)$\n",
    "    - x : チョコボールの重量データ\n",
    "    - $\\theta$ : 確率分布のパラメータ\n",
    "    - 尤度$p(x | \\theta)$と事前分布$p(\\theta)$を設定する必要がある\n",
    "- 尤度関数\n",
    "    - 最尤推定と同様に、正規分布を採用\n",
    "    - $p(x | \\theta) = N(\\mu, \\sigma^2)$\n",
    "      - なお, $\\mu=spec+\\alpha$\n",
    "    - 推定するパラメータは二つ\n",
    "      - $\\alpha$ : 平均のマージン\n",
    "      - $\\sigma^2$ : 分散\n",
    "- 事前分布\n",
    "    - 推定するパラメータ毎にそのパラメータの事前分布を設定する必要がある\n",
    "    - マージン$\\alpha$の事前分布には正規分布\n",
    "      - $p(\\alpha) = N(\\mu_a, \\sigma^2_a)$\n",
    "    - 分散$\\sigma^2$の事前分布には半正規分布\n",
    "      - $p(\\sigma^2) = HalfNormal(sigma^2_b)$"
   ]
  },
  {
   "cell_type": "code",
   "execution_count": null,
   "metadata": {},
   "outputs": [],
   "source": [
    "with pm.Model() as comparing_weight_h:\n",
    "    # 事前分布\n",
    "    alpha = pm.Normal('alpha', mu=0, sd=10, shape=len(set(taste_idx)))\n",
    "    mu = pm.Deterministic('mu', spec_lst[taste_idx]+alpha[taste_idx])\n",
    "    sds = pm.HalfNormal('sds', sd=10, shape=len(set(taste_idx)))\n",
    "    # 重量モデル\n",
    "    weights = pm.Normal('weights', mu=mu, sd=sds[taste_idx], observed=data['net_weight'].values)\n",
    "    \n",
    "    trace_wi = pm.sample(5000, chains=3)"
   ]
  },
  {
   "cell_type": "code",
   "execution_count": null,
   "metadata": {},
   "outputs": [],
   "source": [
    "pm.traceplot(trace_wi, varnames=['alpha', 'sds'])"
   ]
  },
  {
   "cell_type": "code",
   "execution_count": null,
   "metadata": {},
   "outputs": [],
   "source": [
    "fig = plt.figure(figsize=(10, 6))\n",
    "ax = fig.subplots(3, 1, sharex=True)\n",
    "\n",
    "pm.plot_posterior(trace_wi, varnames=['alpha'], \n",
    "                  kde_plot=True, alpha_level=0.05, ax=ax)\n",
    "plt.savefig('posterior_weight_diff_iso.png')"
   ]
  },
  {
   "cell_type": "markdown",
   "metadata": {},
   "source": [
    "## 正味重量を階層ベイズモデルで推定\n",
    "- マージンは味毎に変えているわけではなく、森永さんがチョコボールを製造する際の思想で設定しているものと想像\n",
    "    - 仕様に対してalphaグラム多く入れることにしようと方針を決めていると想像\n",
    "- そのため、データ数が少ないために、マージンに差が出てしまったのではないかとも考えられる\n"
   ]
  },
  {
   "cell_type": "markdown",
   "metadata": {},
   "source": [
    "### モデル\n",
    "- ベイズの式\n",
    "    - $p(\\theta | x) \\propto p(x | \\theta)p(\\theta)$\n",
    "    - x : チョコボールの重量データ\n",
    "    - $\\theta$ : 確率分布のパラメータ\n",
    "    - 尤度$p(x | \\theta)$と事前分布$p(\\theta)$を設定する必要がある\n",
    "- 尤度関数\n",
    "    - 最尤推定と同様に、正規分布を採用\n",
    "    - $p(x | \\theta) = N(\\mu, \\sigma^2)$\n",
    "      - なお, $\\mu=spec+\\alpha$\n",
    "    - 推定するパラメータは二つ\n",
    "      - $\\alpha$ : 平均のマージン\n",
    "      - $\\sigma^2$ : 分散\n",
    "- 事前分布\n",
    "    - 推定するパラメータ毎にそのパラメータの事前分布を設定する必要がある\n",
    "    - マージン$\\alpha$の事前分布には正規分布\n",
    "      - $p(\\alpha) = N(\\mu_a, \\sigma^2_a)$\n",
    "    - 分散$\\sigma^2$の事前分布には半正規分布\n",
    "      - $p(\\sigma^2) = HalfNormal(sigma^2_b)$\n",
    "- 階層事前分布\n",
    "    - 事前分布を統括する分布として階層事前分布を仮定\n",
    "    - マージン$\\alpha$の事前分布のパラメータに階層事前分布を設定する\n",
    "      - $\\mu_a$と$\\sigma^2_a$のそれぞれに対して事前分布を設定\n",
    "      - $\\sigma^2_b$に対して事前分布を設定"
   ]
  },
  {
   "cell_type": "code",
   "execution_count": null,
   "metadata": {},
   "outputs": [],
   "source": [
    "with pm.Model() as comparing_weight_h:\n",
    "    # 階層事前分布\n",
    "    am = pm.Normal('am', mu=0, sd=10)\n",
    "    asd = pm.HalfNormal('asd', sd=10)\n",
    "    ssd = pm.HalfNormal('ssd', sd=10)\n",
    "    # 事前分布\n",
    "    alpha = pm.Normal('alpha', mu=am, sd=asd, shape=len(set(taste_idx)))\n",
    "    mu = pm.Deterministic('mu', spec_lst[taste_idx]+alpha[taste_idx])\n",
    "    sds = pm.HalfNormal('sds', sd=ssd, shape=len(set(taste_idx)))\n",
    "    # 重量モデル\n",
    "    weights = pm.Normal('weights', mu=mu, sd=sds[taste_idx], observed=data['net_weight'].values)\n",
    "    \n",
    "    trace_wh = pm.sample(5000, chains=3)"
   ]
  },
  {
   "cell_type": "code",
   "execution_count": null,
   "metadata": {},
   "outputs": [],
   "source": [
    "pm.traceplot(trace_wh, varnames=['am', 'asd', 'ssd', 'alpha', 'sds'])"
   ]
  },
  {
   "cell_type": "code",
   "execution_count": null,
   "metadata": {},
   "outputs": [],
   "source": [
    "fig = plt.figure(figsize=(10, 6))\n",
    "ax = fig.subplots(3, 1, sharex=True)\n",
    "\n",
    "pm.plot_posterior(trace_wh, varnames=['alpha'], \n",
    "                  kde_plot=True, alpha_level=0.05, ax=ax)\n",
    "plt.savefig('posterior_weight_diff_hi.png')"
   ]
  },
  {
   "cell_type": "markdown",
   "metadata": {},
   "source": [
    "- ピーナッツとイチゴのマージンには差が無いように見える\n",
    "- しかし、チョコバナナは設定が異なっているものと統計的に見える"
   ]
  },
  {
   "cell_type": "markdown",
   "metadata": {},
   "source": [
    "## エンゼルの出現確率を購入者毎に推定"
   ]
  },
  {
   "cell_type": "code",
   "execution_count": null,
   "metadata": {},
   "outputs": [],
   "source": [
    "buyer = data['buyer'].values\n",
    "buyer_idx = pd.Categorical(data['buyer']).codes\n",
    "buyer_cat = pd.Categorical(data['buyer']).categories\n",
    "data['buyer_idx'] = buyer_idx\n",
    "lst_buyer = list(set(buyer_idx))\n",
    "print(buyer_cat)\n",
    "print(set(buyer_idx))"
   ]
  },
  {
   "cell_type": "code",
   "execution_count": null,
   "metadata": {},
   "outputs": [],
   "source": [
    "total_counts = data.groupby(['buyer_idx']).count()['silver'].values\n",
    "angel_counts = data.query('silver > 0').groupby(['buyer_idx']).count()['silver'].values\n",
    "\n",
    "print('total_count : {}'.format(total_counts))\n",
    "print('angel_count : {}'.format(angel_counts))\n"
   ]
  },
  {
   "cell_type": "markdown",
   "metadata": {},
   "source": [
    "### 頻度（最尤推定）を計算"
   ]
  },
  {
   "cell_type": "code",
   "execution_count": null,
   "metadata": {},
   "outputs": [],
   "source": [
    "theta_mle = angel_counts/total_counts\n",
    "print(theta_mle)\n",
    "\n",
    "fig = plt.figure(figsize=(8, 3))\n",
    "ax = fig.subplots(1, 1)\n",
    "cs = ['#FF4500', '#0000FF', '#00F1A1']\n",
    "for idx in np.arange(0, len(theta_mle)):\n",
    "    ax.vlines(theta_mle[idx], 0, 1, colors=cs[idx%len(cs)], label=buyer_cat[idx])\n",
    "ax.set_xlim((0.0, 0.1))\n",
    "ax.set_xlabel('$\\\\theta_{MLE}$')\n",
    "ax.legend()\n",
    "plt.savefig('buyer_effect_mle.png')"
   ]
  },
  {
   "cell_type": "markdown",
   "metadata": {},
   "source": [
    "### 階層モデルとして、全体を統括するパラメータがあると仮定\n",
    "- 真の出現率を決めるパラメータがあるはず\n",
    "- 購入者毎の運によって↑のパラメータに基づいたパラメータがサンプルされる\n",
    "- エンゼルの出現は確率$\\theta_i$の二項分布\n",
    "- $\\theta$の事前分布はベータ分布\n",
    "- ベータ分布のパラメータに事前分布を設定"
   ]
  },
  {
   "cell_type": "code",
   "execution_count": null,
   "metadata": {},
   "outputs": [],
   "source": [
    "with pm.Model() as comparing_buyer_m2:\n",
    "    alpha = pm.HalfCauchy('alpha', beta=10)\n",
    "    beta = pm.HalfCauchy('beta', beta=10)\n",
    "    \n",
    "    theta = pm.Beta('theta', alpha=alpha, beta=beta, shape=len(set(buyer_idx)))\n",
    "    \n",
    "    angel = pm.Binomial('angel', n=total_counts[lst_buyer], p=theta[lst_buyer], observed=angel_counts[lst_buyer])\n",
    "    \n",
    "    trace_h2 = pm.sample(2000, chains=3, random_seed=100)"
   ]
  },
  {
   "cell_type": "code",
   "execution_count": null,
   "metadata": {},
   "outputs": [],
   "source": [
    "pm.traceplot(trace_h2)"
   ]
  },
  {
   "cell_type": "code",
   "execution_count": null,
   "metadata": {},
   "outputs": [],
   "source": [
    "fig = plt.figure(figsize=(8, 4))\n",
    "ax = fig.subplots(1, 1)\n",
    "\n",
    "for i in np.arange(len(buyer_cat)):\n",
    "    sns.distplot(trace_h2['theta'][:,i], label=buyer_cat[i], ax=ax)\n",
    "ax.legend()\n",
    "ax.set_xlabel('angel rate')\n",
    "ax.set_ylabel('frequent')\n",
    "plt.savefig('buyer_effect_h2model.png')"
   ]
  },
  {
   "cell_type": "code",
   "execution_count": null,
   "metadata": {},
   "outputs": [],
   "source": [
    "# thetaの事前分布\n",
    "x = np.linspace(0, 1, 100)\n",
    "for i in np.random.randint(0, len(trace_h2), size=100):\n",
    "    pdf = stats.beta(trace_h2['alpha'][i], trace_h2['beta'][i]).pdf(x)\n",
    "    plt.plot(x, pdf,  'C1', alpha=0.2)\n",
    "\n",
    "dist = stats.beta(trace_h2['alpha'].mean(), trace_h2['beta'].mean())\n",
    "pdf = dist.pdf(x)\n",
    "mode = x[np.argmax(pdf)]\n",
    "mean = dist.moment(1)\n",
    "plt.plot(x, pdf, label='mode = {:.2f}\\nmean = {:.2f}'.format(mode, mean))\n",
    "\n",
    "plt.legend(fontsize=14)\n",
    "plt.xlabel('$\\\\theta_{prior}$', fontsize=16)\n",
    "plt.tight_layout()\n",
    "plt.savefig('buyer_effect_prior_h2model.png', dpi=300, figsize=(5.5, 5.5))\n"
   ]
  },
  {
   "cell_type": "code",
   "execution_count": null,
   "metadata": {},
   "outputs": [],
   "source": []
  }
 ],
 "metadata": {
  "kernelspec": {
   "display_name": "Python 3",
   "language": "python",
   "name": "python3"
  },
  "language_info": {
   "codemirror_mode": {
    "name": "ipython",
    "version": 3
   },
   "file_extension": ".py",
   "mimetype": "text/x-python",
   "name": "python",
   "nbconvert_exporter": "python",
   "pygments_lexer": "ipython3",
   "version": "3.7.0"
  }
 },
 "nbformat": 4,
 "nbformat_minor": 2
}
